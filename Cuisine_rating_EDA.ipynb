{
 "cells": [
  {
   "cell_type": "code",
   "execution_count": 2,
   "metadata": {},
   "outputs": [
    {
     "name": "stderr",
     "output_type": "stream",
     "text": [
      "'mamba' is not recognized as an internal or external command,\n",
      "operable program or batch file.\n"
     ]
    }
   ],
   "source": [
    "!mamba install -qy openpyxl"
   ]
  },
  {
   "cell_type": "code",
   "execution_count": 3,
   "metadata": {},
   "outputs": [],
   "source": [
    "# Surpress warnings from using older version of sklearn:\n",
    "def warn(*args, **kwargs):\n",
    "    pass\n",
    "import warnings\n",
    "warnings.warn = warn"
   ]
  },
  {
   "cell_type": "code",
   "execution_count": 4,
   "metadata": {},
   "outputs": [],
   "source": [
    "import numpy as np\n",
    "import pandas as pd \n",
    "import matplotlib.pyplot as plt\n",
    "%matplotlib inline\n",
    "import plotly.express as px\n",
    "import seaborn as sns\n",
    "from sklearn.preprocessing import StandardScaler\n",
    "from sklearn.decomposition import PCA\n",
    "from scipy import stats\n",
    "import requests\n",
    "import json\n",
    "\n"
   ]
  },
  {
   "cell_type": "code",
   "execution_count": 5,
   "metadata": {},
   "outputs": [
    {
     "data": {
      "text/html": [
       "<div>\n",
       "<style scoped>\n",
       "    .dataframe tbody tr th:only-of-type {\n",
       "        vertical-align: middle;\n",
       "    }\n",
       "\n",
       "    .dataframe tbody tr th {\n",
       "        vertical-align: top;\n",
       "    }\n",
       "\n",
       "    .dataframe thead th {\n",
       "        text-align: right;\n",
       "    }\n",
       "</style>\n",
       "<table border=\"1\" class=\"dataframe\">\n",
       "  <thead>\n",
       "    <tr style=\"text-align: right;\">\n",
       "      <th></th>\n",
       "      <th>User ID</th>\n",
       "      <th>Area code</th>\n",
       "      <th>Location</th>\n",
       "      <th>Gender</th>\n",
       "      <th>YOB</th>\n",
       "      <th>Marital Status</th>\n",
       "      <th>Activity</th>\n",
       "      <th>Budget</th>\n",
       "      <th>Cuisines</th>\n",
       "      <th>Alcohol</th>\n",
       "      <th>Smoker</th>\n",
       "      <th>Food Rating</th>\n",
       "      <th>Service Rating</th>\n",
       "      <th>Overall Rating</th>\n",
       "      <th>Often A S</th>\n",
       "    </tr>\n",
       "  </thead>\n",
       "  <tbody>\n",
       "    <tr>\n",
       "      <th>0</th>\n",
       "      <td>1</td>\n",
       "      <td>153</td>\n",
       "      <td>Upper East Side,NY</td>\n",
       "      <td>Female</td>\n",
       "      <td>2006</td>\n",
       "      <td>Single</td>\n",
       "      <td>Professional</td>\n",
       "      <td>3</td>\n",
       "      <td>Japanese</td>\n",
       "      <td>Never</td>\n",
       "      <td>Never</td>\n",
       "      <td>5</td>\n",
       "      <td>4</td>\n",
       "      <td>4.5</td>\n",
       "      <td>No</td>\n",
       "    </tr>\n",
       "    <tr>\n",
       "      <th>1</th>\n",
       "      <td>2</td>\n",
       "      <td>123</td>\n",
       "      <td>St. George,NY</td>\n",
       "      <td>Female</td>\n",
       "      <td>1991</td>\n",
       "      <td>Married</td>\n",
       "      <td>Student</td>\n",
       "      <td>3</td>\n",
       "      <td>Indian</td>\n",
       "      <td>Never</td>\n",
       "      <td>Socially</td>\n",
       "      <td>1</td>\n",
       "      <td>1</td>\n",
       "      <td>1.0</td>\n",
       "      <td>No</td>\n",
       "    </tr>\n",
       "    <tr>\n",
       "      <th>2</th>\n",
       "      <td>3</td>\n",
       "      <td>122</td>\n",
       "      <td>Upper West Side,NY</td>\n",
       "      <td>Male</td>\n",
       "      <td>1977</td>\n",
       "      <td>Single</td>\n",
       "      <td>Student</td>\n",
       "      <td>5</td>\n",
       "      <td>Seafood</td>\n",
       "      <td>Often</td>\n",
       "      <td>Often</td>\n",
       "      <td>5</td>\n",
       "      <td>5</td>\n",
       "      <td>5.0</td>\n",
       "      <td>Yes</td>\n",
       "    </tr>\n",
       "    <tr>\n",
       "      <th>3</th>\n",
       "      <td>4</td>\n",
       "      <td>153</td>\n",
       "      <td>Upper East Side,NY</td>\n",
       "      <td>Female</td>\n",
       "      <td>1956</td>\n",
       "      <td>Married</td>\n",
       "      <td>Professional</td>\n",
       "      <td>5</td>\n",
       "      <td>Japanese</td>\n",
       "      <td>Never</td>\n",
       "      <td>Socially</td>\n",
       "      <td>3</td>\n",
       "      <td>1</td>\n",
       "      <td>2.0</td>\n",
       "      <td>No</td>\n",
       "    </tr>\n",
       "    <tr>\n",
       "      <th>4</th>\n",
       "      <td>5</td>\n",
       "      <td>129</td>\n",
       "      <td>Central Park,NY</td>\n",
       "      <td>Male</td>\n",
       "      <td>1997</td>\n",
       "      <td>Single</td>\n",
       "      <td>Student</td>\n",
       "      <td>4</td>\n",
       "      <td>Filipino</td>\n",
       "      <td>Socially</td>\n",
       "      <td>Never</td>\n",
       "      <td>2</td>\n",
       "      <td>4</td>\n",
       "      <td>3.0</td>\n",
       "      <td>No</td>\n",
       "    </tr>\n",
       "  </tbody>\n",
       "</table>\n",
       "</div>"
      ],
      "text/plain": [
       "   User ID  Area code            Location  Gender   YOB Marital Status  \\\n",
       "0        1        153  Upper East Side,NY  Female  2006         Single   \n",
       "1        2        123       St. George,NY  Female  1991        Married   \n",
       "2        3        122  Upper West Side,NY    Male  1977         Single   \n",
       "3        4        153  Upper East Side,NY  Female  1956        Married   \n",
       "4        5        129     Central Park,NY    Male  1997         Single   \n",
       "\n",
       "       Activity  Budget  Cuisines  Alcohol     Smoker  Food Rating  \\\n",
       "0  Professional       3  Japanese     Never     Never            5   \n",
       "1       Student       3    Indian     Never  Socially            1   \n",
       "2       Student       5   Seafood     Often     Often            5   \n",
       "3  Professional       5  Japanese     Never  Socially            3   \n",
       "4       Student       4  Filipino  Socially     Never            2   \n",
       "\n",
       "   Service Rating  Overall Rating Often A S  \n",
       "0               4             4.5        No  \n",
       "1               1             1.0        No  \n",
       "2               5             5.0       Yes  \n",
       "3               1             2.0        No  \n",
       "4               4             3.0        No  "
      ]
     },
     "execution_count": 5,
     "metadata": {},
     "output_type": "execute_result"
    }
   ],
   "source": [
    "data = pd.read_csv('D:\\data science\\project\\Cuisine_rating.csv')\n",
    "data.head()"
   ]
  },
  {
   "cell_type": "code",
   "execution_count": 6,
   "metadata": {},
   "outputs": [
    {
     "name": "stdout",
     "output_type": "stream",
     "text": [
      "<class 'pandas.core.frame.DataFrame'>\n",
      "RangeIndex: 200 entries, 0 to 199\n",
      "Data columns (total 15 columns):\n",
      " #   Column          Non-Null Count  Dtype  \n",
      "---  ------          --------------  -----  \n",
      " 0   User ID         200 non-null    int64  \n",
      " 1   Area code       200 non-null    int64  \n",
      " 2   Location        200 non-null    object \n",
      " 3   Gender          200 non-null    object \n",
      " 4   YOB             200 non-null    int64  \n",
      " 5   Marital Status  200 non-null    object \n",
      " 6   Activity        200 non-null    object \n",
      " 7   Budget          200 non-null    int64  \n",
      " 8   Cuisines        200 non-null    object \n",
      " 9   Alcohol         200 non-null    object \n",
      " 10  Smoker          200 non-null    object \n",
      " 11  Food Rating     200 non-null    int64  \n",
      " 12  Service Rating  200 non-null    int64  \n",
      " 13  Overall Rating  200 non-null    float64\n",
      " 14  Often A S       200 non-null    object \n",
      "dtypes: float64(1), int64(6), object(8)\n",
      "memory usage: 23.6+ KB\n"
     ]
    }
   ],
   "source": [
    "data.info()"
   ]
  },
  {
   "cell_type": "code",
   "execution_count": 7,
   "metadata": {},
   "outputs": [
    {
     "data": {
      "text/html": [
       "<div>\n",
       "<style scoped>\n",
       "    .dataframe tbody tr th:only-of-type {\n",
       "        vertical-align: middle;\n",
       "    }\n",
       "\n",
       "    .dataframe tbody tr th {\n",
       "        vertical-align: top;\n",
       "    }\n",
       "\n",
       "    .dataframe thead th {\n",
       "        text-align: right;\n",
       "    }\n",
       "</style>\n",
       "<table border=\"1\" class=\"dataframe\">\n",
       "  <thead>\n",
       "    <tr style=\"text-align: right;\">\n",
       "      <th></th>\n",
       "      <th>User ID</th>\n",
       "      <th>Area code</th>\n",
       "      <th>YOB</th>\n",
       "      <th>Budget</th>\n",
       "      <th>Food Rating</th>\n",
       "      <th>Service Rating</th>\n",
       "      <th>Overall Rating</th>\n",
       "    </tr>\n",
       "  </thead>\n",
       "  <tbody>\n",
       "    <tr>\n",
       "      <th>count</th>\n",
       "      <td>200.000000</td>\n",
       "      <td>200.000000</td>\n",
       "      <td>200.000000</td>\n",
       "      <td>200.000000</td>\n",
       "      <td>200.000000</td>\n",
       "      <td>200.000000</td>\n",
       "      <td>200.000000</td>\n",
       "    </tr>\n",
       "    <tr>\n",
       "      <th>mean</th>\n",
       "      <td>100.500000</td>\n",
       "      <td>141.060000</td>\n",
       "      <td>1984.830000</td>\n",
       "      <td>3.815000</td>\n",
       "      <td>3.220000</td>\n",
       "      <td>3.230000</td>\n",
       "      <td>3.225000</td>\n",
       "    </tr>\n",
       "    <tr>\n",
       "      <th>std</th>\n",
       "      <td>57.879185</td>\n",
       "      <td>26.130257</td>\n",
       "      <td>16.809339</td>\n",
       "      <td>1.056578</td>\n",
       "      <td>1.411226</td>\n",
       "      <td>1.526022</td>\n",
       "      <td>1.079445</td>\n",
       "    </tr>\n",
       "    <tr>\n",
       "      <th>min</th>\n",
       "      <td>1.000000</td>\n",
       "      <td>101.000000</td>\n",
       "      <td>1955.000000</td>\n",
       "      <td>1.000000</td>\n",
       "      <td>1.000000</td>\n",
       "      <td>1.000000</td>\n",
       "      <td>1.000000</td>\n",
       "    </tr>\n",
       "    <tr>\n",
       "      <th>25%</th>\n",
       "      <td>50.750000</td>\n",
       "      <td>123.000000</td>\n",
       "      <td>1971.000000</td>\n",
       "      <td>3.000000</td>\n",
       "      <td>2.000000</td>\n",
       "      <td>2.000000</td>\n",
       "      <td>2.500000</td>\n",
       "    </tr>\n",
       "    <tr>\n",
       "      <th>50%</th>\n",
       "      <td>100.500000</td>\n",
       "      <td>135.000000</td>\n",
       "      <td>1987.000000</td>\n",
       "      <td>4.000000</td>\n",
       "      <td>3.000000</td>\n",
       "      <td>3.000000</td>\n",
       "      <td>3.000000</td>\n",
       "    </tr>\n",
       "    <tr>\n",
       "      <th>75%</th>\n",
       "      <td>150.250000</td>\n",
       "      <td>158.000000</td>\n",
       "      <td>2000.000000</td>\n",
       "      <td>5.000000</td>\n",
       "      <td>5.000000</td>\n",
       "      <td>5.000000</td>\n",
       "      <td>4.000000</td>\n",
       "    </tr>\n",
       "    <tr>\n",
       "      <th>max</th>\n",
       "      <td>200.000000</td>\n",
       "      <td>199.000000</td>\n",
       "      <td>2009.000000</td>\n",
       "      <td>5.000000</td>\n",
       "      <td>5.000000</td>\n",
       "      <td>5.000000</td>\n",
       "      <td>5.000000</td>\n",
       "    </tr>\n",
       "  </tbody>\n",
       "</table>\n",
       "</div>"
      ],
      "text/plain": [
       "          User ID   Area code          YOB      Budget  Food Rating  \\\n",
       "count  200.000000  200.000000   200.000000  200.000000   200.000000   \n",
       "mean   100.500000  141.060000  1984.830000    3.815000     3.220000   \n",
       "std     57.879185   26.130257    16.809339    1.056578     1.411226   \n",
       "min      1.000000  101.000000  1955.000000    1.000000     1.000000   \n",
       "25%     50.750000  123.000000  1971.000000    3.000000     2.000000   \n",
       "50%    100.500000  135.000000  1987.000000    4.000000     3.000000   \n",
       "75%    150.250000  158.000000  2000.000000    5.000000     5.000000   \n",
       "max    200.000000  199.000000  2009.000000    5.000000     5.000000   \n",
       "\n",
       "       Service Rating  Overall Rating  \n",
       "count      200.000000      200.000000  \n",
       "mean         3.230000        3.225000  \n",
       "std          1.526022        1.079445  \n",
       "min          1.000000        1.000000  \n",
       "25%          2.000000        2.500000  \n",
       "50%          3.000000        3.000000  \n",
       "75%          5.000000        4.000000  \n",
       "max          5.000000        5.000000  "
      ]
     },
     "execution_count": 7,
     "metadata": {},
     "output_type": "execute_result"
    }
   ],
   "source": [
    "data.describe()"
   ]
  },
  {
   "cell_type": "code",
   "execution_count": 8,
   "metadata": {},
   "outputs": [
    {
     "data": {
      "text/plain": [
       "User ID           0\n",
       "Area code         0\n",
       "Location          0\n",
       "Gender            0\n",
       "YOB               0\n",
       "Marital Status    0\n",
       "Activity          0\n",
       "Budget            0\n",
       "Cuisines          0\n",
       "Alcohol           0\n",
       "Smoker            0\n",
       "Food Rating       0\n",
       "Service Rating    0\n",
       "Overall Rating    0\n",
       "Often A S         0\n",
       "dtype: int64"
      ]
     },
     "execution_count": 8,
     "metadata": {},
     "output_type": "execute_result"
    }
   ],
   "source": [
    "data.isnull().sum()"
   ]
  },
  {
   "cell_type": "code",
   "execution_count": 9,
   "metadata": {},
   "outputs": [
    {
     "data": {
      "text/plain": [
       "Japanese    36\n",
       "Filipino    34\n",
       "French      34\n",
       "Indian      32\n",
       "Chinese     24\n",
       "Seafood     22\n",
       "Italian     18\n",
       "Name: Cuisines, dtype: int64"
      ]
     },
     "execution_count": 9,
     "metadata": {},
     "output_type": "execute_result"
    }
   ],
   "source": [
    "data[\"Cuisines\"].value_counts()"
   ]
  },
  {
   "cell_type": "code",
   "execution_count": 10,
   "metadata": {},
   "outputs": [
    {
     "name": "stdout",
     "output_type": "stream",
     "text": [
      "There is 3 strongly correlated values with FoodRating:\n",
      "Service Rating    1.000000\n",
      "User ID           0.111227\n",
      "Budget           -0.135542\n",
      "Name: Service Rating, dtype: float64\n"
     ]
    }
   ],
   "source": [
    "#finding correlations\n",
    "cuisine_num = data.select_dtypes(include=['float64', 'int64'])\n",
    "cuisine_num_corr = cuisine_num.corr()['Service Rating'][:-1]\n",
    "top_features = cuisine_num_corr[abs(cuisine_num_corr) > 0.1].sort_values(ascending=False) \n",
    "print(\"There is {} strongly correlated values with FoodRating:\\n{}\".format(len(top_features), top_features))"
   ]
  },
  {
   "cell_type": "code",
   "execution_count": 11,
   "metadata": {},
   "outputs": [
    {
     "data": {
      "image/png": "[encoded data removed]",
      "text/plain": [
       "<Figure size 1080x180 with 7 Axes>"
      ]
     },
     "metadata": {
      "needs_background": "light"
     },
     "output_type": "display_data"
    },
    {
     "data": {
      "image/png": "[encoded data removed]",
      "text/plain": [
       "<Figure size 180x180 with 1 Axes>"
      ]
     },
     "metadata": {
      "needs_background": "light"
     },
     "output_type": "display_data"
    },
    {
     "data": {
      "image/png": "[encoded data removed]",
      "text/plain": [
       "<Figure size 1080x180 with 7 Axes>"
      ]
     },
     "metadata": {
      "needs_background": "light"
     },
     "output_type": "display_data"
    },
    {
     "data": {
      "image/png": "[encoded data removed]",
      "text/plain": [
       "<Figure size 180x180 with 1 Axes>"
      ]
     },
     "metadata": {
      "needs_background": "light"
     },
     "output_type": "display_data"
    }
   ],
   "source": [
    "for i in range(0, len(cuisine_num.columns), 6):\n",
    "    sns.pairplot(data=cuisine_num,\n",
    "                x_vars=cuisine_num.columns[i:i+6],\n",
    "                y_vars=['Food Rating'])\n",
    "for i in range(0, len(cuisine_num.columns), 6):\n",
    "    sns.pairplot(data=cuisine_num,\n",
    "                x_vars=cuisine_num.columns[i:i+6],\n",
    "                y_vars=['Service Rating'])"
   ]
  },
  {
   "attachments": {},
   "cell_type": "markdown",
   "metadata": {},
   "source": [
    "There is no correlation between the numerical features. \n",
    "\n",
    "Here we will start handling the duplicates as there is no missing data in this dataset"
   ]
  },
  {
   "cell_type": "code",
   "execution_count": 12,
   "metadata": {},
   "outputs": [
    {
     "data": {
      "text/plain": [
       "0      False\n",
       "1      False\n",
       "2      False\n",
       "3      False\n",
       "4      False\n",
       "       ...  \n",
       "195    False\n",
       "196    False\n",
       "197    False\n",
       "198    False\n",
       "199    False\n",
       "Length: 200, dtype: bool"
      ]
     },
     "execution_count": 12,
     "metadata": {},
     "output_type": "execute_result"
    }
   ],
   "source": [
    "duplicate_data = data.duplicated(['User ID'])\n",
    "duplicate_data"
   ]
  },
  {
   "cell_type": "code",
   "execution_count": 13,
   "metadata": {},
   "outputs": [
    {
     "data": {
      "text/html": [
       "<div>\n",
       "<style scoped>\n",
       "    .dataframe tbody tr th:only-of-type {\n",
       "        vertical-align: middle;\n",
       "    }\n",
       "\n",
       "    .dataframe tbody tr th {\n",
       "        vertical-align: top;\n",
       "    }\n",
       "\n",
       "    .dataframe thead th {\n",
       "        text-align: right;\n",
       "    }\n",
       "</style>\n",
       "<table border=\"1\" class=\"dataframe\">\n",
       "  <thead>\n",
       "    <tr style=\"text-align: right;\">\n",
       "      <th></th>\n",
       "      <th>User ID</th>\n",
       "      <th>Area code</th>\n",
       "      <th>Location</th>\n",
       "      <th>Gender</th>\n",
       "      <th>YOB</th>\n",
       "      <th>Marital Status</th>\n",
       "      <th>Activity</th>\n",
       "      <th>Budget</th>\n",
       "      <th>Cuisines</th>\n",
       "      <th>Alcohol</th>\n",
       "      <th>Smoker</th>\n",
       "      <th>Food Rating</th>\n",
       "      <th>Service Rating</th>\n",
       "      <th>Overall Rating</th>\n",
       "      <th>Often A S</th>\n",
       "    </tr>\n",
       "  </thead>\n",
       "  <tbody>\n",
       "    <tr>\n",
       "      <th>0</th>\n",
       "      <td>1</td>\n",
       "      <td>153</td>\n",
       "      <td>Upper East Side,NY</td>\n",
       "      <td>Female</td>\n",
       "      <td>2006</td>\n",
       "      <td>Single</td>\n",
       "      <td>Professional</td>\n",
       "      <td>3</td>\n",
       "      <td>Japanese</td>\n",
       "      <td>Never</td>\n",
       "      <td>Never</td>\n",
       "      <td>5</td>\n",
       "      <td>4</td>\n",
       "      <td>4.5</td>\n",
       "      <td>No</td>\n",
       "    </tr>\n",
       "    <tr>\n",
       "      <th>1</th>\n",
       "      <td>2</td>\n",
       "      <td>123</td>\n",
       "      <td>St. George,NY</td>\n",
       "      <td>Female</td>\n",
       "      <td>1991</td>\n",
       "      <td>Married</td>\n",
       "      <td>Student</td>\n",
       "      <td>3</td>\n",
       "      <td>Indian</td>\n",
       "      <td>Never</td>\n",
       "      <td>Socially</td>\n",
       "      <td>1</td>\n",
       "      <td>1</td>\n",
       "      <td>1.0</td>\n",
       "      <td>No</td>\n",
       "    </tr>\n",
       "    <tr>\n",
       "      <th>2</th>\n",
       "      <td>3</td>\n",
       "      <td>122</td>\n",
       "      <td>Upper West Side,NY</td>\n",
       "      <td>Male</td>\n",
       "      <td>1977</td>\n",
       "      <td>Single</td>\n",
       "      <td>Student</td>\n",
       "      <td>5</td>\n",
       "      <td>Seafood</td>\n",
       "      <td>Often</td>\n",
       "      <td>Often</td>\n",
       "      <td>5</td>\n",
       "      <td>5</td>\n",
       "      <td>5.0</td>\n",
       "      <td>Yes</td>\n",
       "    </tr>\n",
       "    <tr>\n",
       "      <th>3</th>\n",
       "      <td>4</td>\n",
       "      <td>153</td>\n",
       "      <td>Upper East Side,NY</td>\n",
       "      <td>Female</td>\n",
       "      <td>1956</td>\n",
       "      <td>Married</td>\n",
       "      <td>Professional</td>\n",
       "      <td>5</td>\n",
       "      <td>Japanese</td>\n",
       "      <td>Never</td>\n",
       "      <td>Socially</td>\n",
       "      <td>3</td>\n",
       "      <td>1</td>\n",
       "      <td>2.0</td>\n",
       "      <td>No</td>\n",
       "    </tr>\n",
       "    <tr>\n",
       "      <th>4</th>\n",
       "      <td>5</td>\n",
       "      <td>129</td>\n",
       "      <td>Central Park,NY</td>\n",
       "      <td>Male</td>\n",
       "      <td>1997</td>\n",
       "      <td>Single</td>\n",
       "      <td>Student</td>\n",
       "      <td>4</td>\n",
       "      <td>Filipino</td>\n",
       "      <td>Socially</td>\n",
       "      <td>Never</td>\n",
       "      <td>2</td>\n",
       "      <td>4</td>\n",
       "      <td>3.0</td>\n",
       "      <td>No</td>\n",
       "    </tr>\n",
       "    <tr>\n",
       "      <th>...</th>\n",
       "      <td>...</td>\n",
       "      <td>...</td>\n",
       "      <td>...</td>\n",
       "      <td>...</td>\n",
       "      <td>...</td>\n",
       "      <td>...</td>\n",
       "      <td>...</td>\n",
       "      <td>...</td>\n",
       "      <td>...</td>\n",
       "      <td>...</td>\n",
       "      <td>...</td>\n",
       "      <td>...</td>\n",
       "      <td>...</td>\n",
       "      <td>...</td>\n",
       "      <td>...</td>\n",
       "    </tr>\n",
       "    <tr>\n",
       "      <th>195</th>\n",
       "      <td>196</td>\n",
       "      <td>175</td>\n",
       "      <td>St. George,NY</td>\n",
       "      <td>Female</td>\n",
       "      <td>1982</td>\n",
       "      <td>Single</td>\n",
       "      <td>Professional</td>\n",
       "      <td>4</td>\n",
       "      <td>French</td>\n",
       "      <td>Never</td>\n",
       "      <td>Socially</td>\n",
       "      <td>1</td>\n",
       "      <td>2</td>\n",
       "      <td>1.5</td>\n",
       "      <td>No</td>\n",
       "    </tr>\n",
       "    <tr>\n",
       "      <th>196</th>\n",
       "      <td>197</td>\n",
       "      <td>170</td>\n",
       "      <td>Upper West Side,NY</td>\n",
       "      <td>Female</td>\n",
       "      <td>2000</td>\n",
       "      <td>Married</td>\n",
       "      <td>Student</td>\n",
       "      <td>4</td>\n",
       "      <td>Chinese</td>\n",
       "      <td>Never</td>\n",
       "      <td>Often</td>\n",
       "      <td>1</td>\n",
       "      <td>2</td>\n",
       "      <td>1.5</td>\n",
       "      <td>No</td>\n",
       "    </tr>\n",
       "    <tr>\n",
       "      <th>197</th>\n",
       "      <td>198</td>\n",
       "      <td>160</td>\n",
       "      <td>St. George,NY</td>\n",
       "      <td>Female</td>\n",
       "      <td>2006</td>\n",
       "      <td>Single</td>\n",
       "      <td>Professional</td>\n",
       "      <td>5</td>\n",
       "      <td>Japanese</td>\n",
       "      <td>Never</td>\n",
       "      <td>Often</td>\n",
       "      <td>5</td>\n",
       "      <td>2</td>\n",
       "      <td>3.5</td>\n",
       "      <td>No</td>\n",
       "    </tr>\n",
       "    <tr>\n",
       "      <th>198</th>\n",
       "      <td>199</td>\n",
       "      <td>130</td>\n",
       "      <td>St. George,NY</td>\n",
       "      <td>Male</td>\n",
       "      <td>2002</td>\n",
       "      <td>Married</td>\n",
       "      <td>Student</td>\n",
       "      <td>3</td>\n",
       "      <td>Filipino</td>\n",
       "      <td>Never</td>\n",
       "      <td>Socially</td>\n",
       "      <td>3</td>\n",
       "      <td>2</td>\n",
       "      <td>2.5</td>\n",
       "      <td>No</td>\n",
       "    </tr>\n",
       "    <tr>\n",
       "      <th>199</th>\n",
       "      <td>200</td>\n",
       "      <td>140</td>\n",
       "      <td>Upper East Side,NY</td>\n",
       "      <td>Male</td>\n",
       "      <td>2005</td>\n",
       "      <td>Married</td>\n",
       "      <td>Student</td>\n",
       "      <td>4</td>\n",
       "      <td>French</td>\n",
       "      <td>Never</td>\n",
       "      <td>Never</td>\n",
       "      <td>3</td>\n",
       "      <td>2</td>\n",
       "      <td>2.5</td>\n",
       "      <td>No</td>\n",
       "    </tr>\n",
       "  </tbody>\n",
       "</table>\n",
       "<p>200 rows × 15 columns</p>\n",
       "</div>"
      ],
      "text/plain": [
       "     User ID  Area code            Location  Gender   YOB Marital Status  \\\n",
       "0          1        153  Upper East Side,NY  Female  2006         Single   \n",
       "1          2        123       St. George,NY  Female  1991        Married   \n",
       "2          3        122  Upper West Side,NY    Male  1977         Single   \n",
       "3          4        153  Upper East Side,NY  Female  1956        Married   \n",
       "4          5        129     Central Park,NY    Male  1997         Single   \n",
       "..       ...        ...                 ...     ...   ...            ...   \n",
       "195      196        175       St. George,NY  Female  1982         Single   \n",
       "196      197        170  Upper West Side,NY  Female  2000        Married   \n",
       "197      198        160       St. George,NY  Female  2006         Single   \n",
       "198      199        130       St. George,NY    Male  2002        Married   \n",
       "199      200        140  Upper East Side,NY    Male  2005        Married   \n",
       "\n",
       "         Activity  Budget  Cuisines  Alcohol     Smoker  Food Rating  \\\n",
       "0    Professional       3  Japanese     Never     Never            5   \n",
       "1         Student       3    Indian     Never  Socially            1   \n",
       "2         Student       5   Seafood     Often     Often            5   \n",
       "3    Professional       5  Japanese     Never  Socially            3   \n",
       "4         Student       4  Filipino  Socially     Never            2   \n",
       "..            ...     ...       ...       ...       ...          ...   \n",
       "195  Professional       4    French     Never  Socially            1   \n",
       "196       Student       4   Chinese     Never     Often            1   \n",
       "197  Professional       5  Japanese     Never     Often            5   \n",
       "198       Student       3  Filipino     Never  Socially            3   \n",
       "199       Student       4    French     Never     Never            3   \n",
       "\n",
       "     Service Rating  Overall Rating Often A S  \n",
       "0                 4             4.5        No  \n",
       "1                 1             1.0        No  \n",
       "2                 5             5.0       Yes  \n",
       "3                 1             2.0        No  \n",
       "4                 4             3.0        No  \n",
       "..              ...             ...       ...  \n",
       "195               2             1.5        No  \n",
       "196               2             1.5        No  \n",
       "197               2             3.5        No  \n",
       "198               2             2.5        No  \n",
       "199               2             2.5        No  \n",
       "\n",
       "[200 rows x 15 columns]"
      ]
     },
     "execution_count": 13,
     "metadata": {},
     "output_type": "execute_result"
    }
   ],
   "source": [
    "dup_removed = data.drop_duplicates()\n",
    "dup_removed "
   ]
  },
  {
   "attachments": {},
   "cell_type": "markdown",
   "metadata": {},
   "source": [
    "Log Transformation:"
   ]
  },
  {
   "cell_type": "code",
   "execution_count": 14,
   "metadata": {},
   "outputs": [
    {
     "name": "stdout",
     "output_type": "stream",
     "text": [
      "Skewness: -0.158389\n"
     ]
    },
    {
     "data": {
      "image/png": "[encoded data removed]",
      "text/plain": [
       "<Figure size 432x288 with 1 Axes>"
      ]
     },
     "metadata": {
      "needs_background": "light"
     },
     "output_type": "display_data"
    }
   ],
   "source": [
    "sp_untransformed = sns.distplot(data['Food Rating'])\n",
    "print(\"Skewness: %f\" % data['Food Rating'].skew())"
   ]
  },
  {
   "cell_type": "code",
   "execution_count": 15,
   "metadata": {},
   "outputs": [
    {
     "name": "stdout",
     "output_type": "stream",
     "text": [
      "Skewness: -0.800199\n"
     ]
    },
    {
     "data": {
      "image/png": "[encoded data removed]",
      "text/plain": [
       "<Figure size 432x288 with 1 Axes>"
      ]
     },
     "metadata": {
      "needs_background": "light"
     },
     "output_type": "display_data"
    }
   ],
   "source": [
    "log_transformed = np.log(data['Food Rating'])\n",
    "sp_transformed = sns.distplot(log_transformed)\n",
    "print(\"Skewness: %f\" % (log_transformed).skew())"
   ]
  },
  {
   "cell_type": "code",
   "execution_count": 16,
   "metadata": {},
   "outputs": [
    {
     "data": {
      "image/png": "[encoded data removed]",
      "text/plain": [
       "<Figure size 432x288 with 1 Axes>"
      ]
     },
     "metadata": {
      "needs_background": "light"
     },
     "output_type": "display_data"
    }
   ],
   "source": [
    "fitted_data, fitted_lambda = stats.boxcox(data['Food Rating'])\n",
    "box_transformed = sns.distplot(fitted_data)\n"
   ]
  },
  {
   "attachments": {},
   "cell_type": "markdown",
   "metadata": {},
   "source": [
    "feature scaling:"
   ]
  },
  {
   "cell_type": "code",
   "execution_count": 17,
   "metadata": {},
   "outputs": [
    {
     "data": {
      "text/plain": [
       "array([[-1.7234121 ,  0.45808819,  1.26257937, ...,  1.26448012,\n",
       "         0.50584602,  1.18412682],\n",
       "       [-1.70609137, -0.69288717,  0.36797897, ..., -1.57704824,\n",
       "        -1.46498263, -2.0664174 ],\n",
       "       [-1.68877065, -0.73125301, -0.46698141, ...,  1.26448012,\n",
       "         1.1627889 ,  1.64849028],\n",
       "       ...,\n",
       "       [ 1.68877065,  0.72664911,  1.26257937, ...,  1.26448012,\n",
       "        -0.80803974,  0.2553999 ],\n",
       "       [ 1.70609137, -0.42432625,  1.02401926, ..., -0.15628406,\n",
       "        -0.80803974, -0.67332702],\n",
       "       [ 1.7234121 , -0.0406678 ,  1.20293934, ..., -0.15628406,\n",
       "        -0.80803974, -0.67332702]])"
      ]
     },
     "execution_count": 17,
     "metadata": {},
     "output_type": "execute_result"
    }
   ],
   "source": [
    "scaled_data = StandardScaler().fit_transform(cuisine_num)\n",
    "scaled_data"
   ]
  },
  {
   "attachments": {},
   "cell_type": "markdown",
   "metadata": {},
   "source": [
    "Data Wrangling:"
   ]
  },
  {
   "cell_type": "code",
   "execution_count": 18,
   "metadata": {},
   "outputs": [],
   "source": [
    "data_new =  data.rename(columns={\"Location\": \"Address\", \"Activity\": \"Profession\",\"Budget\":\"Money Spent\",\"YOB\" : \"Year OF Birth\",  \"Often A S\": \"regular visitor\"})\n",
    "                   "
   ]
  },
  {
   "cell_type": "code",
   "execution_count": 19,
   "metadata": {},
   "outputs": [
    {
     "data": {
      "text/html": [
       "<div>\n",
       "<style scoped>\n",
       "    .dataframe tbody tr th:only-of-type {\n",
       "        vertical-align: middle;\n",
       "    }\n",
       "\n",
       "    .dataframe tbody tr th {\n",
       "        vertical-align: top;\n",
       "    }\n",
       "\n",
       "    .dataframe thead th {\n",
       "        text-align: right;\n",
       "    }\n",
       "</style>\n",
       "<table border=\"1\" class=\"dataframe\">\n",
       "  <thead>\n",
       "    <tr style=\"text-align: right;\">\n",
       "      <th></th>\n",
       "      <th>User ID</th>\n",
       "      <th>Area code</th>\n",
       "      <th>Address</th>\n",
       "      <th>Gender</th>\n",
       "      <th>Year OF Birth</th>\n",
       "      <th>Marital Status</th>\n",
       "      <th>Profession</th>\n",
       "      <th>Money Spent</th>\n",
       "      <th>Cuisines</th>\n",
       "      <th>Alcohol</th>\n",
       "      <th>Smoker</th>\n",
       "      <th>Food Rating</th>\n",
       "      <th>Service Rating</th>\n",
       "      <th>Overall Rating</th>\n",
       "      <th>regular visitor</th>\n",
       "    </tr>\n",
       "  </thead>\n",
       "  <tbody>\n",
       "    <tr>\n",
       "      <th>0</th>\n",
       "      <td>1</td>\n",
       "      <td>153</td>\n",
       "      <td>Upper East Side,NY</td>\n",
       "      <td>Female</td>\n",
       "      <td>2006</td>\n",
       "      <td>Single</td>\n",
       "      <td>Professional</td>\n",
       "      <td>3</td>\n",
       "      <td>Japanese</td>\n",
       "      <td>Never</td>\n",
       "      <td>Never</td>\n",
       "      <td>5</td>\n",
       "      <td>4</td>\n",
       "      <td>4.5</td>\n",
       "      <td>No</td>\n",
       "    </tr>\n",
       "    <tr>\n",
       "      <th>1</th>\n",
       "      <td>2</td>\n",
       "      <td>123</td>\n",
       "      <td>St. George,NY</td>\n",
       "      <td>Female</td>\n",
       "      <td>1991</td>\n",
       "      <td>Married</td>\n",
       "      <td>Student</td>\n",
       "      <td>3</td>\n",
       "      <td>Indian</td>\n",
       "      <td>Never</td>\n",
       "      <td>Socially</td>\n",
       "      <td>1</td>\n",
       "      <td>1</td>\n",
       "      <td>1.0</td>\n",
       "      <td>No</td>\n",
       "    </tr>\n",
       "    <tr>\n",
       "      <th>2</th>\n",
       "      <td>3</td>\n",
       "      <td>122</td>\n",
       "      <td>Upper West Side,NY</td>\n",
       "      <td>Male</td>\n",
       "      <td>1977</td>\n",
       "      <td>Single</td>\n",
       "      <td>Student</td>\n",
       "      <td>5</td>\n",
       "      <td>Seafood</td>\n",
       "      <td>Often</td>\n",
       "      <td>Often</td>\n",
       "      <td>5</td>\n",
       "      <td>5</td>\n",
       "      <td>5.0</td>\n",
       "      <td>Yes</td>\n",
       "    </tr>\n",
       "    <tr>\n",
       "      <th>3</th>\n",
       "      <td>4</td>\n",
       "      <td>153</td>\n",
       "      <td>Upper East Side,NY</td>\n",
       "      <td>Female</td>\n",
       "      <td>1956</td>\n",
       "      <td>Married</td>\n",
       "      <td>Professional</td>\n",
       "      <td>5</td>\n",
       "      <td>Japanese</td>\n",
       "      <td>Never</td>\n",
       "      <td>Socially</td>\n",
       "      <td>3</td>\n",
       "      <td>1</td>\n",
       "      <td>2.0</td>\n",
       "      <td>No</td>\n",
       "    </tr>\n",
       "    <tr>\n",
       "      <th>4</th>\n",
       "      <td>5</td>\n",
       "      <td>129</td>\n",
       "      <td>Central Park,NY</td>\n",
       "      <td>Male</td>\n",
       "      <td>1997</td>\n",
       "      <td>Single</td>\n",
       "      <td>Student</td>\n",
       "      <td>4</td>\n",
       "      <td>Filipino</td>\n",
       "      <td>Socially</td>\n",
       "      <td>Never</td>\n",
       "      <td>2</td>\n",
       "      <td>4</td>\n",
       "      <td>3.0</td>\n",
       "      <td>No</td>\n",
       "    </tr>\n",
       "  </tbody>\n",
       "</table>\n",
       "</div>"
      ],
      "text/plain": [
       "   User ID  Area code             Address  Gender  Year OF Birth  \\\n",
       "0        1        153  Upper East Side,NY  Female           2006   \n",
       "1        2        123       St. George,NY  Female           1991   \n",
       "2        3        122  Upper West Side,NY    Male           1977   \n",
       "3        4        153  Upper East Side,NY  Female           1956   \n",
       "4        5        129     Central Park,NY    Male           1997   \n",
       "\n",
       "  Marital Status    Profession  Money Spent  Cuisines  Alcohol     Smoker  \\\n",
       "0         Single  Professional            3  Japanese     Never     Never   \n",
       "1        Married       Student            3    Indian     Never  Socially   \n",
       "2         Single       Student            5   Seafood     Often     Often   \n",
       "3        Married  Professional            5  Japanese     Never  Socially   \n",
       "4         Single       Student            4  Filipino  Socially     Never   \n",
       "\n",
       "   Food Rating  Service Rating  Overall Rating regular visitor  \n",
       "0            5               4             4.5              No  \n",
       "1            1               1             1.0              No  \n",
       "2            5               5             5.0             Yes  \n",
       "3            3               1             2.0              No  \n",
       "4            2               4             3.0              No  "
      ]
     },
     "execution_count": 19,
     "metadata": {},
     "output_type": "execute_result"
    }
   ],
   "source": [
    "data_new.head()"
   ]
  },
  {
   "cell_type": "code",
   "execution_count": 20,
   "metadata": {},
   "outputs": [
    {
     "data": {
      "text/html": [
       "<div>\n",
       "<style scoped>\n",
       "    .dataframe tbody tr th:only-of-type {\n",
       "        vertical-align: middle;\n",
       "    }\n",
       "\n",
       "    .dataframe tbody tr th {\n",
       "        vertical-align: top;\n",
       "    }\n",
       "\n",
       "    .dataframe thead th {\n",
       "        text-align: right;\n",
       "    }\n",
       "</style>\n",
       "<table border=\"1\" class=\"dataframe\">\n",
       "  <thead>\n",
       "    <tr style=\"text-align: right;\">\n",
       "      <th></th>\n",
       "      <th>User ID</th>\n",
       "      <th>Area code</th>\n",
       "      <th>Address</th>\n",
       "      <th>Gender</th>\n",
       "      <th>Year OF Birth</th>\n",
       "      <th>Marital Status</th>\n",
       "      <th>Profession</th>\n",
       "      <th>Money Spent</th>\n",
       "      <th>Cuisines</th>\n",
       "      <th>Alcohol</th>\n",
       "      <th>Smoker</th>\n",
       "      <th>Food Rating</th>\n",
       "      <th>Service Rating</th>\n",
       "      <th>Overall Rating</th>\n",
       "      <th>regular visitor</th>\n",
       "      <th>City</th>\n",
       "      <th>State</th>\n",
       "    </tr>\n",
       "  </thead>\n",
       "  <tbody>\n",
       "    <tr>\n",
       "      <th>0</th>\n",
       "      <td>1</td>\n",
       "      <td>153</td>\n",
       "      <td>Upper East Side,NY</td>\n",
       "      <td>Female</td>\n",
       "      <td>2006</td>\n",
       "      <td>Single</td>\n",
       "      <td>Professional</td>\n",
       "      <td>3</td>\n",
       "      <td>Japanese</td>\n",
       "      <td>Never</td>\n",
       "      <td>Never</td>\n",
       "      <td>5</td>\n",
       "      <td>4</td>\n",
       "      <td>4.5</td>\n",
       "      <td>No</td>\n",
       "      <td>Upper East Side</td>\n",
       "      <td>NY</td>\n",
       "    </tr>\n",
       "    <tr>\n",
       "      <th>1</th>\n",
       "      <td>2</td>\n",
       "      <td>123</td>\n",
       "      <td>St. George,NY</td>\n",
       "      <td>Female</td>\n",
       "      <td>1991</td>\n",
       "      <td>Married</td>\n",
       "      <td>Student</td>\n",
       "      <td>3</td>\n",
       "      <td>Indian</td>\n",
       "      <td>Never</td>\n",
       "      <td>Socially</td>\n",
       "      <td>1</td>\n",
       "      <td>1</td>\n",
       "      <td>1.0</td>\n",
       "      <td>No</td>\n",
       "      <td>St. George</td>\n",
       "      <td>NY</td>\n",
       "    </tr>\n",
       "    <tr>\n",
       "      <th>2</th>\n",
       "      <td>3</td>\n",
       "      <td>122</td>\n",
       "      <td>Upper West Side,NY</td>\n",
       "      <td>Male</td>\n",
       "      <td>1977</td>\n",
       "      <td>Single</td>\n",
       "      <td>Student</td>\n",
       "      <td>5</td>\n",
       "      <td>Seafood</td>\n",
       "      <td>Often</td>\n",
       "      <td>Often</td>\n",
       "      <td>5</td>\n",
       "      <td>5</td>\n",
       "      <td>5.0</td>\n",
       "      <td>Yes</td>\n",
       "      <td>Upper West Side</td>\n",
       "      <td>NY</td>\n",
       "    </tr>\n",
       "    <tr>\n",
       "      <th>3</th>\n",
       "      <td>4</td>\n",
       "      <td>153</td>\n",
       "      <td>Upper East Side,NY</td>\n",
       "      <td>Female</td>\n",
       "      <td>1956</td>\n",
       "      <td>Married</td>\n",
       "      <td>Professional</td>\n",
       "      <td>5</td>\n",
       "      <td>Japanese</td>\n",
       "      <td>Never</td>\n",
       "      <td>Socially</td>\n",
       "      <td>3</td>\n",
       "      <td>1</td>\n",
       "      <td>2.0</td>\n",
       "      <td>No</td>\n",
       "      <td>Upper East Side</td>\n",
       "      <td>NY</td>\n",
       "    </tr>\n",
       "    <tr>\n",
       "      <th>4</th>\n",
       "      <td>5</td>\n",
       "      <td>129</td>\n",
       "      <td>Central Park,NY</td>\n",
       "      <td>Male</td>\n",
       "      <td>1997</td>\n",
       "      <td>Single</td>\n",
       "      <td>Student</td>\n",
       "      <td>4</td>\n",
       "      <td>Filipino</td>\n",
       "      <td>Socially</td>\n",
       "      <td>Never</td>\n",
       "      <td>2</td>\n",
       "      <td>4</td>\n",
       "      <td>3.0</td>\n",
       "      <td>No</td>\n",
       "      <td>Central Park</td>\n",
       "      <td>NY</td>\n",
       "    </tr>\n",
       "  </tbody>\n",
       "</table>\n",
       "</div>"
      ],
      "text/plain": [
       "   User ID  Area code             Address  Gender  Year OF Birth  \\\n",
       "0        1        153  Upper East Side,NY  Female           2006   \n",
       "1        2        123       St. George,NY  Female           1991   \n",
       "2        3        122  Upper West Side,NY    Male           1977   \n",
       "3        4        153  Upper East Side,NY  Female           1956   \n",
       "4        5        129     Central Park,NY    Male           1997   \n",
       "\n",
       "  Marital Status    Profession  Money Spent  Cuisines  Alcohol     Smoker  \\\n",
       "0         Single  Professional            3  Japanese     Never     Never   \n",
       "1        Married       Student            3    Indian     Never  Socially   \n",
       "2         Single       Student            5   Seafood     Often     Often   \n",
       "3        Married  Professional            5  Japanese     Never  Socially   \n",
       "4         Single       Student            4  Filipino  Socially     Never   \n",
       "\n",
       "   Food Rating  Service Rating  Overall Rating regular visitor  \\\n",
       "0            5               4             4.5              No   \n",
       "1            1               1             1.0              No   \n",
       "2            5               5             5.0             Yes   \n",
       "3            3               1             2.0              No   \n",
       "4            2               4             3.0              No   \n",
       "\n",
       "              City State  \n",
       "0  Upper East Side    NY  \n",
       "1       St. George    NY  \n",
       "2  Upper West Side    NY  \n",
       "3  Upper East Side    NY  \n",
       "4     Central Park    NY  "
      ]
     },
     "execution_count": 20,
     "metadata": {},
     "output_type": "execute_result"
    }
   ],
   "source": [
    "data_new[['City', 'State']] = data_new['Address'].str.split(',', n=1, expand=True)\n",
    "data_new.head()"
   ]
  },
  {
   "cell_type": "code",
   "execution_count": 21,
   "metadata": {},
   "outputs": [
    {
     "data": {
      "text/html": [
       "<div>\n",
       "<style scoped>\n",
       "    .dataframe tbody tr th:only-of-type {\n",
       "        vertical-align: middle;\n",
       "    }\n",
       "\n",
       "    .dataframe tbody tr th {\n",
       "        vertical-align: top;\n",
       "    }\n",
       "\n",
       "    .dataframe thead th {\n",
       "        text-align: right;\n",
       "    }\n",
       "</style>\n",
       "<table border=\"1\" class=\"dataframe\">\n",
       "  <thead>\n",
       "    <tr style=\"text-align: right;\">\n",
       "      <th></th>\n",
       "      <th>User ID</th>\n",
       "      <th>Area code</th>\n",
       "      <th>Gender</th>\n",
       "      <th>Year OF Birth</th>\n",
       "      <th>Marital Status</th>\n",
       "      <th>Profession</th>\n",
       "      <th>Money Spent</th>\n",
       "      <th>Cuisines</th>\n",
       "      <th>Alcohol</th>\n",
       "      <th>Smoker</th>\n",
       "      <th>Food Rating</th>\n",
       "      <th>Service Rating</th>\n",
       "      <th>Overall Rating</th>\n",
       "      <th>regular visitor</th>\n",
       "      <th>City</th>\n",
       "      <th>State</th>\n",
       "    </tr>\n",
       "  </thead>\n",
       "  <tbody>\n",
       "    <tr>\n",
       "      <th>0</th>\n",
       "      <td>1</td>\n",
       "      <td>153</td>\n",
       "      <td>Female</td>\n",
       "      <td>2006</td>\n",
       "      <td>Single</td>\n",
       "      <td>Professional</td>\n",
       "      <td>3</td>\n",
       "      <td>Japanese</td>\n",
       "      <td>Never</td>\n",
       "      <td>Never</td>\n",
       "      <td>5</td>\n",
       "      <td>4</td>\n",
       "      <td>4.5</td>\n",
       "      <td>No</td>\n",
       "      <td>Upper East Side</td>\n",
       "      <td>NY</td>\n",
       "    </tr>\n",
       "    <tr>\n",
       "      <th>1</th>\n",
       "      <td>2</td>\n",
       "      <td>123</td>\n",
       "      <td>Female</td>\n",
       "      <td>1991</td>\n",
       "      <td>Married</td>\n",
       "      <td>Student</td>\n",
       "      <td>3</td>\n",
       "      <td>Indian</td>\n",
       "      <td>Never</td>\n",
       "      <td>Socially</td>\n",
       "      <td>1</td>\n",
       "      <td>1</td>\n",
       "      <td>1.0</td>\n",
       "      <td>No</td>\n",
       "      <td>St. George</td>\n",
       "      <td>NY</td>\n",
       "    </tr>\n",
       "    <tr>\n",
       "      <th>2</th>\n",
       "      <td>3</td>\n",
       "      <td>122</td>\n",
       "      <td>Male</td>\n",
       "      <td>1977</td>\n",
       "      <td>Single</td>\n",
       "      <td>Student</td>\n",
       "      <td>5</td>\n",
       "      <td>Seafood</td>\n",
       "      <td>Often</td>\n",
       "      <td>Often</td>\n",
       "      <td>5</td>\n",
       "      <td>5</td>\n",
       "      <td>5.0</td>\n",
       "      <td>Yes</td>\n",
       "      <td>Upper West Side</td>\n",
       "      <td>NY</td>\n",
       "    </tr>\n",
       "    <tr>\n",
       "      <th>3</th>\n",
       "      <td>4</td>\n",
       "      <td>153</td>\n",
       "      <td>Female</td>\n",
       "      <td>1956</td>\n",
       "      <td>Married</td>\n",
       "      <td>Professional</td>\n",
       "      <td>5</td>\n",
       "      <td>Japanese</td>\n",
       "      <td>Never</td>\n",
       "      <td>Socially</td>\n",
       "      <td>3</td>\n",
       "      <td>1</td>\n",
       "      <td>2.0</td>\n",
       "      <td>No</td>\n",
       "      <td>Upper East Side</td>\n",
       "      <td>NY</td>\n",
       "    </tr>\n",
       "    <tr>\n",
       "      <th>4</th>\n",
       "      <td>5</td>\n",
       "      <td>129</td>\n",
       "      <td>Male</td>\n",
       "      <td>1997</td>\n",
       "      <td>Single</td>\n",
       "      <td>Student</td>\n",
       "      <td>4</td>\n",
       "      <td>Filipino</td>\n",
       "      <td>Socially</td>\n",
       "      <td>Never</td>\n",
       "      <td>2</td>\n",
       "      <td>4</td>\n",
       "      <td>3.0</td>\n",
       "      <td>No</td>\n",
       "      <td>Central Park</td>\n",
       "      <td>NY</td>\n",
       "    </tr>\n",
       "    <tr>\n",
       "      <th>...</th>\n",
       "      <td>...</td>\n",
       "      <td>...</td>\n",
       "      <td>...</td>\n",
       "      <td>...</td>\n",
       "      <td>...</td>\n",
       "      <td>...</td>\n",
       "      <td>...</td>\n",
       "      <td>...</td>\n",
       "      <td>...</td>\n",
       "      <td>...</td>\n",
       "      <td>...</td>\n",
       "      <td>...</td>\n",
       "      <td>...</td>\n",
       "      <td>...</td>\n",
       "      <td>...</td>\n",
       "      <td>...</td>\n",
       "    </tr>\n",
       "    <tr>\n",
       "      <th>195</th>\n",
       "      <td>196</td>\n",
       "      <td>175</td>\n",
       "      <td>Female</td>\n",
       "      <td>1982</td>\n",
       "      <td>Single</td>\n",
       "      <td>Professional</td>\n",
       "      <td>4</td>\n",
       "      <td>French</td>\n",
       "      <td>Never</td>\n",
       "      <td>Socially</td>\n",
       "      <td>1</td>\n",
       "      <td>2</td>\n",
       "      <td>1.5</td>\n",
       "      <td>No</td>\n",
       "      <td>St. George</td>\n",
       "      <td>NY</td>\n",
       "    </tr>\n",
       "    <tr>\n",
       "      <th>196</th>\n",
       "      <td>197</td>\n",
       "      <td>170</td>\n",
       "      <td>Female</td>\n",
       "      <td>2000</td>\n",
       "      <td>Married</td>\n",
       "      <td>Student</td>\n",
       "      <td>4</td>\n",
       "      <td>Chinese</td>\n",
       "      <td>Never</td>\n",
       "      <td>Often</td>\n",
       "      <td>1</td>\n",
       "      <td>2</td>\n",
       "      <td>1.5</td>\n",
       "      <td>No</td>\n",
       "      <td>Upper West Side</td>\n",
       "      <td>NY</td>\n",
       "    </tr>\n",
       "    <tr>\n",
       "      <th>197</th>\n",
       "      <td>198</td>\n",
       "      <td>160</td>\n",
       "      <td>Female</td>\n",
       "      <td>2006</td>\n",
       "      <td>Single</td>\n",
       "      <td>Professional</td>\n",
       "      <td>5</td>\n",
       "      <td>Japanese</td>\n",
       "      <td>Never</td>\n",
       "      <td>Often</td>\n",
       "      <td>5</td>\n",
       "      <td>2</td>\n",
       "      <td>3.5</td>\n",
       "      <td>No</td>\n",
       "      <td>St. George</td>\n",
       "      <td>NY</td>\n",
       "    </tr>\n",
       "    <tr>\n",
       "      <th>198</th>\n",
       "      <td>199</td>\n",
       "      <td>130</td>\n",
       "      <td>Male</td>\n",
       "      <td>2002</td>\n",
       "      <td>Married</td>\n",
       "      <td>Student</td>\n",
       "      <td>3</td>\n",
       "      <td>Filipino</td>\n",
       "      <td>Never</td>\n",
       "      <td>Socially</td>\n",
       "      <td>3</td>\n",
       "      <td>2</td>\n",
       "      <td>2.5</td>\n",
       "      <td>No</td>\n",
       "      <td>St. George</td>\n",
       "      <td>NY</td>\n",
       "    </tr>\n",
       "    <tr>\n",
       "      <th>199</th>\n",
       "      <td>200</td>\n",
       "      <td>140</td>\n",
       "      <td>Male</td>\n",
       "      <td>2005</td>\n",
       "      <td>Married</td>\n",
       "      <td>Student</td>\n",
       "      <td>4</td>\n",
       "      <td>French</td>\n",
       "      <td>Never</td>\n",
       "      <td>Never</td>\n",
       "      <td>3</td>\n",
       "      <td>2</td>\n",
       "      <td>2.5</td>\n",
       "      <td>No</td>\n",
       "      <td>Upper East Side</td>\n",
       "      <td>NY</td>\n",
       "    </tr>\n",
       "  </tbody>\n",
       "</table>\n",
       "<p>200 rows × 16 columns</p>\n",
       "</div>"
      ],
      "text/plain": [
       "     User ID  Area code  Gender  Year OF Birth Marital Status    Profession  \\\n",
       "0          1        153  Female           2006         Single  Professional   \n",
       "1          2        123  Female           1991        Married       Student   \n",
       "2          3        122    Male           1977         Single       Student   \n",
       "3          4        153  Female           1956        Married  Professional   \n",
       "4          5        129    Male           1997         Single       Student   \n",
       "..       ...        ...     ...            ...            ...           ...   \n",
       "195      196        175  Female           1982         Single  Professional   \n",
       "196      197        170  Female           2000        Married       Student   \n",
       "197      198        160  Female           2006         Single  Professional   \n",
       "198      199        130    Male           2002        Married       Student   \n",
       "199      200        140    Male           2005        Married       Student   \n",
       "\n",
       "     Money Spent  Cuisines  Alcohol     Smoker  Food Rating  Service Rating  \\\n",
       "0              3  Japanese     Never     Never            5               4   \n",
       "1              3    Indian     Never  Socially            1               1   \n",
       "2              5   Seafood     Often     Often            5               5   \n",
       "3              5  Japanese     Never  Socially            3               1   \n",
       "4              4  Filipino  Socially     Never            2               4   \n",
       "..           ...       ...       ...       ...          ...             ...   \n",
       "195            4    French     Never  Socially            1               2   \n",
       "196            4   Chinese     Never     Often            1               2   \n",
       "197            5  Japanese     Never     Often            5               2   \n",
       "198            3  Filipino     Never  Socially            3               2   \n",
       "199            4    French     Never     Never            3               2   \n",
       "\n",
       "     Overall Rating regular visitor             City State  \n",
       "0               4.5              No  Upper East Side    NY  \n",
       "1               1.0              No       St. George    NY  \n",
       "2               5.0             Yes  Upper West Side    NY  \n",
       "3               2.0              No  Upper East Side    NY  \n",
       "4               3.0              No     Central Park    NY  \n",
       "..              ...             ...              ...   ...  \n",
       "195             1.5              No       St. George    NY  \n",
       "196             1.5              No  Upper West Side    NY  \n",
       "197             3.5              No       St. George    NY  \n",
       "198             2.5              No       St. George    NY  \n",
       "199             2.5              No  Upper East Side    NY  \n",
       "\n",
       "[200 rows x 16 columns]"
      ]
     },
     "execution_count": 21,
     "metadata": {},
     "output_type": "execute_result"
    }
   ],
   "source": [
    "data_new.drop(['Address'], axis = 1)"
   ]
  },
  {
   "cell_type": "code",
   "execution_count": 22,
   "metadata": {},
   "outputs": [
    {
     "data": {
      "text/plain": [
       "['Japanese', 'Indian', 'Seafood', 'Filipino', 'Italian', 'Chinese', 'French']"
      ]
     },
     "execution_count": 22,
     "metadata": {},
     "output_type": "execute_result"
    }
   ],
   "source": [
    "data_new.Cuisines.unique().tolist()"
   ]
  },
  {
   "cell_type": "code",
   "execution_count": 23,
   "metadata": {},
   "outputs": [
    {
     "data": {
      "text/plain": [
       "Cuisines\n",
       "Chinese     3.27\n",
       "Filipino    3.04\n",
       "French      3.10\n",
       "Indian      3.17\n",
       "Italian     3.19\n",
       "Japanese    3.60\n",
       "Seafood     3.14\n",
       "Name: Overall Rating, dtype: float64"
      ]
     },
     "execution_count": 23,
     "metadata": {},
     "output_type": "execute_result"
    }
   ],
   "source": [
    "rating_each_cuisine = data_new.groupby(['Cuisines'])['Overall Rating'].mean().round(2)\n",
    "rating_each_cuisine"
   ]
  },
  {
   "cell_type": "code",
   "execution_count": 24,
   "metadata": {},
   "outputs": [
    {
     "data": {
      "application/vnd.plotly.v1+json": {
       "config": {
        "plotlyServerURL": "https://plot.ly"
       },
       "data": [
        {
         "hovertemplate": "Overall Rating=%{y}<br>Cuisines=%{x}<extra></extra>",
         "legendgroup": "4.5",
         "line": {
          "color": "#FD3216",
          "dash": "solid"
         },
         "marker": {
          "symbol": "circle"
         },
         "mode": "markers+lines",
         "name": "4.5",
         "orientation": "v",
         "showlegend": true,
         "type": "scatter",
         "x": [
          "Japanese",
          "Japanese",
          "Indian",
          "Chinese",
          "Japanese",
          "Japanese"
         ],
         "xaxis": "x",
         "y": [
          4.5,
          4.5,
          4.5,
          4.5,
          4.5,
          4.5
         ],
         "yaxis": "y"
        },
        {
         "hovertemplate": "Overall Rating=%{y}<br>Cuisines=%{x}<extra></extra>",
         "legendgroup": "1.0",
         "line": {
          "color": "#00FE35",
          "dash": "solid"
         },
         "marker": {
          "symbol": "circle"
         },
         "mode": "markers+lines",
         "name": "1.0",
         "orientation": "v",
         "showlegend": true,
         "type": "scatter",
         "x": [
          "Indian",
          "Filipino",
          "Italian",
          "Indian",
          "Italian",
          "Indian"
         ],
         "xaxis": "x",
         "y": [
          1,
          1,
          1,
          1,
          1,
          1
         ],
         "yaxis": "y"
        },
        {
         "hovertemplate": "Overall Rating=%{y}<br>Cuisines=%{x}<extra></extra>",
         "legendgroup": "5.0",
         "line": {
          "color": "#6A76FC",
          "dash": "solid"
         },
         "marker": {
          "symbol": "circle"
         },
         "mode": "markers+lines",
         "name": "5.0",
         "orientation": "v",
         "showlegend": true,
         "type": "scatter",
         "x": [
          "Seafood",
          "Chinese",
          "Seafood",
          "Japanese",
          "Filipino",
          "Japanese",
          "Italian",
          "Japanese",
          "Japanese",
          "Italian",
          "Seafood",
          "Chinese",
          "French",
          "French",
          "Indian",
          "French",
          "Seafood",
          "Filipino",
          "Japanese",
          "Italian",
          "Japanese",
          "Japanese",
          "Italian",
          "Seafood",
          "Chinese",
          "French",
          "French",
          "Indian",
          "French"
         ],
         "xaxis": "x",
         "y": [
          5,
          5,
          5,
          5,
          5,
          5,
          5,
          5,
          5,
          5,
          5,
          5,
          5,
          5,
          5,
          5,
          5,
          5,
          5,
          5,
          5,
          5,
          5,
          5,
          5,
          5,
          5,
          5,
          5
         ],
         "yaxis": "y"
        },
        {
         "hovertemplate": "Overall Rating=%{y}<br>Cuisines=%{x}<extra></extra>",
         "legendgroup": "2.0",
         "line": {
          "color": "#FED4C4",
          "dash": "solid"
         },
         "marker": {
          "symbol": "circle"
         },
         "mode": "markers+lines",
         "name": "2.0",
         "orientation": "v",
         "showlegend": true,
         "type": "scatter",
         "x": [
          "Japanese",
          "Chinese",
          "Seafood",
          "Japanese",
          "Filipino",
          "Seafood",
          "Japanese",
          "Filipino",
          "Italian",
          "French",
          "Japanese",
          "Chinese",
          "Filipino",
          "Seafood",
          "Seafood",
          "Filipino",
          "Seafood",
          "Japanese",
          "Filipino",
          "Italian",
          "French"
         ],
         "xaxis": "x",
         "y": [
          2,
          2,
          2,
          2,
          2,
          2,
          2,
          2,
          2,
          2,
          2,
          2,
          2,
          2,
          2,
          2,
          2,
          2,
          2,
          2,
          2
         ],
         "yaxis": "y"
        },
        {
         "hovertemplate": "Overall Rating=%{y}<br>Cuisines=%{x}<extra></extra>",
         "legendgroup": "3.0",
         "line": {
          "color": "#FE00CE",
          "dash": "solid"
         },
         "marker": {
          "symbol": "circle"
         },
         "mode": "markers+lines",
         "name": "3.0",
         "orientation": "v",
         "showlegend": true,
         "type": "scatter",
         "x": [
          "Filipino",
          "Seafood",
          "Italian",
          "Japanese",
          "Chinese",
          "Indian",
          "Indian",
          "Indian",
          "Seafood",
          "Japanese",
          "Seafood",
          "French",
          "Indian",
          "Chinese",
          "Filipino",
          "French",
          "Filipino",
          "Seafood",
          "Filipino",
          "Filipino",
          "French",
          "Chinese",
          "Indian",
          "Indian",
          "Japanese",
          "Seafood",
          "Japanese",
          "Seafood",
          "French",
          "Indian",
          "Chinese",
          "Filipino",
          "French",
          "Filipino"
         ],
         "xaxis": "x",
         "y": [
          3,
          3,
          3,
          3,
          3,
          3,
          3,
          3,
          3,
          3,
          3,
          3,
          3,
          3,
          3,
          3,
          3,
          3,
          3,
          3,
          3,
          3,
          3,
          3,
          3,
          3,
          3,
          3,
          3,
          3,
          3,
          3,
          3,
          3
         ],
         "yaxis": "y"
        },
        {
         "hovertemplate": "Overall Rating=%{y}<br>Cuisines=%{x}<extra></extra>",
         "legendgroup": "2.5",
         "line": {
          "color": "#0DF9FF",
          "dash": "solid"
         },
         "marker": {
          "symbol": "circle"
         },
         "mode": "markers+lines",
         "name": "2.5",
         "orientation": "v",
         "showlegend": true,
         "type": "scatter",
         "x": [
          "Indian",
          "French",
          "French",
          "Italian",
          "Indian",
          "Chinese",
          "Indian",
          "French",
          "French",
          "French",
          "Italian",
          "Chinese",
          "Indian",
          "Japanese",
          "Filipino",
          "Filipino",
          "French",
          "French",
          "Italian",
          "Indian",
          "Chinese",
          "Japanese",
          "French",
          "French",
          "French",
          "Italian",
          "Chinese",
          "Indian",
          "Japanese",
          "Filipino",
          "Filipino",
          "French"
         ],
         "xaxis": "x",
         "y": [
          2.5,
          2.5,
          2.5,
          2.5,
          2.5,
          2.5,
          2.5,
          2.5,
          2.5,
          2.5,
          2.5,
          2.5,
          2.5,
          2.5,
          2.5,
          2.5,
          2.5,
          2.5,
          2.5,
          2.5,
          2.5,
          2.5,
          2.5,
          2.5,
          2.5,
          2.5,
          2.5,
          2.5,
          2.5,
          2.5,
          2.5,
          2.5
         ],
         "yaxis": "y"
        },
        {
         "hovertemplate": "Overall Rating=%{y}<br>Cuisines=%{x}<extra></extra>",
         "legendgroup": "3.5",
         "line": {
          "color": "#F6F926",
          "dash": "solid"
         },
         "marker": {
          "symbol": "circle"
         },
         "mode": "markers+lines",
         "name": "3.5",
         "orientation": "v",
         "showlegend": true,
         "type": "scatter",
         "x": [
          "Filipino",
          "Chinese",
          "Italian",
          "Indian",
          "Japanese",
          "Japanese",
          "Chinese",
          "Japanese",
          "Filipino",
          "Japanese",
          "French",
          "Indian",
          "Italian",
          "Filipino",
          "Filipino",
          "Indian",
          "Indian",
          "Japanese",
          "Indian",
          "Seafood",
          "Chinese",
          "Japanese",
          "Japanese",
          "Chinese",
          "Japanese",
          "Filipino",
          "Japanese",
          "French",
          "Indian",
          "Italian",
          "Filipino",
          "Filipino",
          "Indian",
          "Indian",
          "Japanese"
         ],
         "xaxis": "x",
         "y": [
          3.5,
          3.5,
          3.5,
          3.5,
          3.5,
          3.5,
          3.5,
          3.5,
          3.5,
          3.5,
          3.5,
          3.5,
          3.5,
          3.5,
          3.5,
          3.5,
          3.5,
          3.5,
          3.5,
          3.5,
          3.5,
          3.5,
          3.5,
          3.5,
          3.5,
          3.5,
          3.5,
          3.5,
          3.5,
          3.5,
          3.5,
          3.5,
          3.5,
          3.5,
          3.5
         ],
         "yaxis": "y"
        },
        {
         "hovertemplate": "Overall Rating=%{y}<br>Cuisines=%{x}<extra></extra>",
         "legendgroup": "1.5",
         "line": {
          "color": "#FF9616",
          "dash": "solid"
         },
         "marker": {
          "symbol": "circle"
         },
         "mode": "markers+lines",
         "name": "1.5",
         "orientation": "v",
         "showlegend": true,
         "type": "scatter",
         "x": [
          "Seafood",
          "French",
          "Seafood",
          "Filipino",
          "French",
          "Chinese",
          "French",
          "Seafood",
          "Filipino",
          "French",
          "Chinese"
         ],
         "xaxis": "x",
         "y": [
          1.5,
          1.5,
          1.5,
          1.5,
          1.5,
          1.5,
          1.5,
          1.5,
          1.5,
          1.5,
          1.5
         ],
         "yaxis": "y"
        },
        {
         "hovertemplate": "Overall Rating=%{y}<br>Cuisines=%{x}<extra></extra>",
         "legendgroup": "4.0",
         "line": {
          "color": "#479B55",
          "dash": "solid"
         },
         "marker": {
          "symbol": "circle"
         },
         "mode": "markers+lines",
         "name": "4.0",
         "orientation": "v",
         "showlegend": true,
         "type": "scatter",
         "x": [
          "Filipino",
          "Indian",
          "Seafood",
          "French",
          "Chinese",
          "Filipino",
          "Filipino",
          "Japanese",
          "French",
          "Chinese",
          "Japanese",
          "Italian",
          "Italian",
          "Filipino",
          "Indian",
          "Indian",
          "Indian",
          "Seafood",
          "Indian",
          "French",
          "Chinese",
          "Filipino",
          "Filipino",
          "Japanese",
          "French",
          "Chinese"
         ],
         "xaxis": "x",
         "y": [
          4,
          4,
          4,
          4,
          4,
          4,
          4,
          4,
          4,
          4,
          4,
          4,
          4,
          4,
          4,
          4,
          4,
          4,
          4,
          4,
          4,
          4,
          4,
          4,
          4,
          4
         ],
         "yaxis": "y"
        }
       ],
       "layout": {
        "legend": {
         "title": {
          "text": "Overall Rating"
         },
         "tracegroupgap": 0
        },
        "margin": {
         "t": 60
        },
        "template": {
         "data": {
          "bar": [
           {
            "error_x": {
             "color": "#2a3f5f"
            },
            "error_y": {
             "color": "#2a3f5f"
            },
            "marker": {
             "line": {
              "color": "#E5ECF6",
              "width": 0.5
             },
             "pattern": {
              "fillmode": "overlay",
              "size": 10,
              "solidity": 0.2
             }
            },
            "type": "bar"
           }
          ],
          "barpolar": [
           {
            "marker": {
             "line": {
              "color": "#E5ECF6",
              "width": 0.5
             },
             "pattern": {
              "fillmode": "overlay",
              "size": 10,
              "solidity": 0.2
             }
            },
            "type": "barpolar"
           }
          ],
          "carpet": [
           {
            "aaxis": {
             "endlinecolor": "#2a3f5f",
             "gridcolor": "white",
             "linecolor": "white",
             "minorgridcolor": "white",
             "startlinecolor": "#2a3f5f"
            },
            "baxis": {
             "endlinecolor": "#2a3f5f",
             "gridcolor": "white",
             "linecolor": "white",
             "minorgridcolor": "white",
             "startlinecolor": "#2a3f5f"
            },
            "type": "carpet"
           }
          ],
          "choropleth": [
           {
            "colorbar": {
             "outlinewidth": 0,
             "ticks": ""
            },
            "type": "choropleth"
           }
          ],
          "contour": [
           {
            "colorbar": {
             "outlinewidth": 0,
             "ticks": ""
            },
            "colorscale": [
             [
              0,
              "#0d0887"
             ],
             [
              0.1111111111111111,
              "#46039f"
             ],
             [
              0.2222222222222222,
              "#7201a8"
             ],
             [
              0.3333333333333333,
              "#9c179e"
             ],
             [
              0.4444444444444444,
              "#bd3786"
             ],
             [
              0.5555555555555556,
              "#d8576b"
             ],
             [
              0.6666666666666666,
              "#ed7953"
             ],
             [
              0.7777777777777778,
              "#fb9f3a"
             ],
             [
              0.8888888888888888,
              "#fdca26"
             ],
             [
              1,
              "#f0f921"
             ]
            ],
            "type": "contour"
           }
          ],
          "contourcarpet": [
           {
            "colorbar": {
             "outlinewidth": 0,
             "ticks": ""
            },
            "type": "contourcarpet"
           }
          ],
          "heatmap": [
           {
            "colorbar": {
             "outlinewidth": 0,
             "ticks": ""
            },
            "colorscale": [
             [
              0,
              "#0d0887"
             ],
             [
              0.1111111111111111,
              "#46039f"
             ],
             [
              0.2222222222222222,
              "#7201a8"
             ],
             [
              0.3333333333333333,
              "#9c179e"
             ],
             [
              0.4444444444444444,
              "#bd3786"
             ],
             [
              0.5555555555555556,
              "#d8576b"
             ],
             [
              0.6666666666666666,
              "#ed7953"
             ],
             [
              0.7777777777777778,
              "#fb9f3a"
             ],
             [
              0.8888888888888888,
              "#fdca26"
             ],
             [
              1,
              "#f0f921"
             ]
            ],
            "type": "heatmap"
           }
          ],
          "heatmapgl": [
           {
            "colorbar": {
             "outlinewidth": 0,
             "ticks": ""
            },
            "colorscale": [
             [
              0,
              "#0d0887"
             ],
             [
              0.1111111111111111,
              "#46039f"
             ],
             [
              0.2222222222222222,
              "#7201a8"
             ],
             [
              0.3333333333333333,
              "#9c179e"
             ],
             [
              0.4444444444444444,
              "#bd3786"
             ],
             [
              0.5555555555555556,
              "#d8576b"
             ],
             [
              0.6666666666666666,
              "#ed7953"
             ],
             [
              0.7777777777777778,
              "#fb9f3a"
             ],
             [
              0.8888888888888888,
              "#fdca26"
             ],
             [
              1,
              "#f0f921"
             ]
            ],
            "type": "heatmapgl"
           }
          ],
          "histogram": [
           {
            "marker": {
             "pattern": {
              "fillmode": "overlay",
              "size": 10,
              "solidity": 0.2
             }
            },
            "type": "histogram"
           }
          ],
          "histogram2d": [
           {
            "colorbar": {
             "outlinewidth": 0,
             "ticks": ""
            },
            "colorscale": [
             [
              0,
              "#0d0887"
             ],
             [
              0.1111111111111111,
              "#46039f"
             ],
             [
              0.2222222222222222,
              "#7201a8"
             ],
             [
              0.3333333333333333,
              "#9c179e"
             ],
             [
              0.4444444444444444,
              "#bd3786"
             ],
             [
              0.5555555555555556,
              "#d8576b"
             ],
             [
              0.6666666666666666,
              "#ed7953"
             ],
             [
              0.7777777777777778,
              "#fb9f3a"
             ],
             [
              0.8888888888888888,
              "#fdca26"
             ],
             [
              1,
              "#f0f921"
             ]
            ],
            "type": "histogram2d"
           }
          ],
          "histogram2dcontour": [
           {
            "colorbar": {
             "outlinewidth": 0,
             "ticks": ""
            },
            "colorscale": [
             [
              0,
              "#0d0887"
             ],
             [
              0.1111111111111111,
              "#46039f"
             ],
             [
              0.2222222222222222,
              "#7201a8"
             ],
             [
              0.3333333333333333,
              "#9c179e"
             ],
             [
              0.4444444444444444,
              "#bd3786"
             ],
             [
              0.5555555555555556,
              "#d8576b"
             ],
             [
              0.6666666666666666,
              "#ed7953"
             ],
             [
              0.7777777777777778,
              "#fb9f3a"
             ],
             [
              0.8888888888888888,
              "#fdca26"
             ],
             [
              1,
              "#f0f921"
             ]
            ],
            "type": "histogram2dcontour"
           }
          ],
          "mesh3d": [
           {
            "colorbar": {
             "outlinewidth": 0,
             "ticks": ""
            },
            "type": "mesh3d"
           }
          ],
          "parcoords": [
           {
            "line": {
             "colorbar": {
              "outlinewidth": 0,
              "ticks": ""
             }
            },
            "type": "parcoords"
           }
          ],
          "pie": [
           {
            "automargin": true,
            "type": "pie"
           }
          ],
          "scatter": [
           {
            "fillpattern": {
             "fillmode": "overlay",
             "size": 10,
             "solidity": 0.2
            },
            "type": "scatter"
           }
          ],
          "scatter3d": [
           {
            "line": {
             "colorbar": {
              "outlinewidth": 0,
              "ticks": ""
             }
            },
            "marker": {
             "colorbar": {
              "outlinewidth": 0,
              "ticks": ""
             }
            },
            "type": "scatter3d"
           }
          ],
          "scattercarpet": [
           {
            "marker": {
             "colorbar": {
              "outlinewidth": 0,
              "ticks": ""
             }
            },
            "type": "scattercarpet"
           }
          ],
          "scattergeo": [
           {
            "marker": {
             "colorbar": {
              "outlinewidth": 0,
              "ticks": ""
             }
            },
            "type": "scattergeo"
           }
          ],
          "scattergl": [
           {
            "marker": {
             "colorbar": {
              "outlinewidth": 0,
              "ticks": ""
             }
            },
            "type": "scattergl"
           }
          ],
          "scattermapbox": [
           {
            "marker": {
             "colorbar": {
              "outlinewidth": 0,
              "ticks": ""
             }
            },
            "type": "scattermapbox"
           }
          ],
          "scatterpolar": [
           {
            "marker": {
             "colorbar": {
              "outlinewidth": 0,
              "ticks": ""
             }
            },
            "type": "scatterpolar"
           }
          ],
          "scatterpolargl": [
           {
            "marker": {
             "colorbar": {
              "outlinewidth": 0,
              "ticks": ""
             }
            },
            "type": "scatterpolargl"
           }
          ],
          "scatterternary": [
           {
            "marker": {
             "colorbar": {
              "outlinewidth": 0,
              "ticks": ""
             }
            },
            "type": "scatterternary"
           }
          ],
          "surface": [
           {
            "colorbar": {
             "outlinewidth": 0,
             "ticks": ""
            },
            "colorscale": [
             [
              0,
              "#0d0887"
             ],
             [
              0.1111111111111111,
              "#46039f"
             ],
             [
              0.2222222222222222,
              "#7201a8"
             ],
             [
              0.3333333333333333,
              "#9c179e"
             ],
             [
              0.4444444444444444,
              "#bd3786"
             ],
             [
              0.5555555555555556,
              "#d8576b"
             ],
             [
              0.6666666666666666,
              "#ed7953"
             ],
             [
              0.7777777777777778,
              "#fb9f3a"
             ],
             [
              0.8888888888888888,
              "#fdca26"
             ],
             [
              1,
              "#f0f921"
             ]
            ],
            "type": "surface"
           }
          ],
          "table": [
           {
            "cells": {
             "fill": {
              "color": "#EBF0F8"
             },
             "line": {
              "color": "white"
             }
            },
            "header": {
             "fill": {
              "color": "#C8D4E3"
             },
             "line": {
              "color": "white"
             }
            },
            "type": "table"
           }
          ]
         },
         "layout": {
          "annotationdefaults": {
           "arrowcolor": "#2a3f5f",
           "arrowhead": 0,
           "arrowwidth": 1
          },
          "autotypenumbers": "strict",
          "coloraxis": {
           "colorbar": {
            "outlinewidth": 0,
            "ticks": ""
           }
          },
          "colorscale": {
           "diverging": [
            [
             0,
             "#8e0152"
            ],
            [
             0.1,
             "#c51b7d"
            ],
            [
             0.2,
             "#de77ae"
            ],
            [
             0.3,
             "#f1b6da"
            ],
            [
             0.4,
             "#fde0ef"
            ],
            [
             0.5,
             "#f7f7f7"
            ],
            [
             0.6,
             "#e6f5d0"
            ],
            [
             0.7,
             "#b8e186"
            ],
            [
             0.8,
             "#7fbc41"
            ],
            [
             0.9,
             "#4d9221"
            ],
            [
             1,
             "#276419"
            ]
           ],
           "sequential": [
            [
             0,
             "#0d0887"
            ],
            [
             0.1111111111111111,
             "#46039f"
            ],
            [
             0.2222222222222222,
             "#7201a8"
            ],
            [
             0.3333333333333333,
             "#9c179e"
            ],
            [
             0.4444444444444444,
             "#bd3786"
            ],
            [
             0.5555555555555556,
             "#d8576b"
            ],
            [
             0.6666666666666666,
             "#ed7953"
            ],
            [
             0.7777777777777778,
             "#fb9f3a"
            ],
            [
             0.8888888888888888,
             "#fdca26"
            ],
            [
             1,
             "#f0f921"
            ]
           ],
           "sequentialminus": [
            [
             0,
             "#0d0887"
            ],
            [
             0.1111111111111111,
             "#46039f"
            ],
            [
             0.2222222222222222,
             "#7201a8"
            ],
            [
             0.3333333333333333,
             "#9c179e"
            ],
            [
             0.4444444444444444,
             "#bd3786"
            ],
            [
             0.5555555555555556,
             "#d8576b"
            ],
            [
             0.6666666666666666,
             "#ed7953"
            ],
            [
             0.7777777777777778,
             "#fb9f3a"
            ],
            [
             0.8888888888888888,
             "#fdca26"
            ],
            [
             1,
             "#f0f921"
            ]
           ]
          },
          "colorway": [
           "#636efa",
           "#EF553B",
           "#00cc96",
           "#ab63fa",
           "#FFA15A",
           "#19d3f3",
           "#FF6692",
           "#B6E880",
           "#FF97FF",
           "#FECB52"
          ],
          "font": {
           "color": "#2a3f5f"
          },
          "geo": {
           "bgcolor": "white",
           "lakecolor": "white",
           "landcolor": "#E5ECF6",
           "showlakes": true,
           "showland": true,
           "subunitcolor": "white"
          },
          "hoverlabel": {
           "align": "left"
          },
          "hovermode": "closest",
          "mapbox": {
           "style": "light"
          },
          "paper_bgcolor": "white",
          "plot_bgcolor": "#E5ECF6",
          "polar": {
           "angularaxis": {
            "gridcolor": "white",
            "linecolor": "white",
            "ticks": ""
           },
           "bgcolor": "#E5ECF6",
           "radialaxis": {
            "gridcolor": "white",
            "linecolor": "white",
            "ticks": ""
           }
          },
          "scene": {
           "xaxis": {
            "backgroundcolor": "#E5ECF6",
            "gridcolor": "white",
            "gridwidth": 2,
            "linecolor": "white",
            "showbackground": true,
            "ticks": "",
            "zerolinecolor": "white"
           },
           "yaxis": {
            "backgroundcolor": "#E5ECF6",
            "gridcolor": "white",
            "gridwidth": 2,
            "linecolor": "white",
            "showbackground": true,
            "ticks": "",
            "zerolinecolor": "white"
           },
           "zaxis": {
            "backgroundcolor": "#E5ECF6",
            "gridcolor": "white",
            "gridwidth": 2,
            "linecolor": "white",
            "showbackground": true,
            "ticks": "",
            "zerolinecolor": "white"
           }
          },
          "shapedefaults": {
           "line": {
            "color": "#2a3f5f"
           }
          },
          "ternary": {
           "aaxis": {
            "gridcolor": "white",
            "linecolor": "white",
            "ticks": ""
           },
           "baxis": {
            "gridcolor": "white",
            "linecolor": "white",
            "ticks": ""
           },
           "bgcolor": "#E5ECF6",
           "caxis": {
            "gridcolor": "white",
            "linecolor": "white",
            "ticks": ""
           }
          },
          "title": {
           "x": 0.05
          },
          "xaxis": {
           "automargin": true,
           "gridcolor": "white",
           "linecolor": "white",
           "ticks": "",
           "title": {
            "standoff": 15
           },
           "zerolinecolor": "white",
           "zerolinewidth": 2
          },
          "yaxis": {
           "automargin": true,
           "gridcolor": "white",
           "linecolor": "white",
           "ticks": "",
           "title": {
            "standoff": 15
           },
           "zerolinecolor": "white",
           "zerolinewidth": 2
          }
         }
        },
        "title": {
         "text": "Rating for each Cuisine"
        },
        "xaxis": {
         "anchor": "y",
         "domain": [
          0,
          1
         ],
         "title": {
          "text": "Rating"
         }
        },
        "yaxis": {
         "anchor": "x",
         "categoryarray": [
          4,
          1.5,
          3.5,
          2.5,
          3,
          2,
          5,
          1,
          4.5
         ],
         "categoryorder": "array",
         "domain": [
          0,
          1
         ],
         "title": {
          "text": "Cuisines"
         }
        }
       }
      }
     },
     "metadata": {},
     "output_type": "display_data"
    }
   ],
   "source": [
    "#visualizating data for each cuisine\n",
    "fig = px.line(data_new\n",
    "                   ,x='Cuisines', y = \"Overall Rating\", \n",
    "                   color = \"Overall Rating\", color_discrete_sequence=px.colors.qualitative.Light24)\n",
    "fig.update_traces(mode='markers+lines')\n",
    "fig.update_layout(\n",
    "    title=\"Rating for each Cuisine\",\n",
    "    xaxis_title=\"Rating\",\n",
    "    yaxis_title=\"Cuisines\")\n",
    "fig.show()"
   ]
  },
  {
   "attachments": {},
   "cell_type": "markdown",
   "metadata": {},
   "source": [
    "Starting Feature engineering as Categorical data should be converted to numerical ones for our ML models "
   ]
  },
  {
   "cell_type": "code",
   "execution_count": 25,
   "metadata": {},
   "outputs": [],
   "source": [
    "data1 = pd.get_dummies(data=data_new, columns = ['Cuisines'])"
   ]
  },
  {
   "cell_type": "code",
   "execution_count": 26,
   "metadata": {},
   "outputs": [
    {
     "data": {
      "text/html": [
       "<div>\n",
       "<style scoped>\n",
       "    .dataframe tbody tr th:only-of-type {\n",
       "        vertical-align: middle;\n",
       "    }\n",
       "\n",
       "    .dataframe tbody tr th {\n",
       "        vertical-align: top;\n",
       "    }\n",
       "\n",
       "    .dataframe thead th {\n",
       "        text-align: right;\n",
       "    }\n",
       "</style>\n",
       "<table border=\"1\" class=\"dataframe\">\n",
       "  <thead>\n",
       "    <tr style=\"text-align: right;\">\n",
       "      <th></th>\n",
       "      <th>User ID</th>\n",
       "      <th>Area code</th>\n",
       "      <th>Address</th>\n",
       "      <th>Gender</th>\n",
       "      <th>Year OF Birth</th>\n",
       "      <th>Marital Status</th>\n",
       "      <th>Profession</th>\n",
       "      <th>Money Spent</th>\n",
       "      <th>Alcohol</th>\n",
       "      <th>Smoker</th>\n",
       "      <th>...</th>\n",
       "      <th>regular visitor</th>\n",
       "      <th>City</th>\n",
       "      <th>State</th>\n",
       "      <th>Cuisines_Chinese</th>\n",
       "      <th>Cuisines_Filipino</th>\n",
       "      <th>Cuisines_French</th>\n",
       "      <th>Cuisines_Indian</th>\n",
       "      <th>Cuisines_Italian</th>\n",
       "      <th>Cuisines_Japanese</th>\n",
       "      <th>Cuisines_Seafood</th>\n",
       "    </tr>\n",
       "  </thead>\n",
       "  <tbody>\n",
       "    <tr>\n",
       "      <th>0</th>\n",
       "      <td>1</td>\n",
       "      <td>153</td>\n",
       "      <td>Upper East Side,NY</td>\n",
       "      <td>Female</td>\n",
       "      <td>2006</td>\n",
       "      <td>Single</td>\n",
       "      <td>Professional</td>\n",
       "      <td>3</td>\n",
       "      <td>Never</td>\n",
       "      <td>Never</td>\n",
       "      <td>...</td>\n",
       "      <td>No</td>\n",
       "      <td>Upper East Side</td>\n",
       "      <td>NY</td>\n",
       "      <td>0</td>\n",
       "      <td>0</td>\n",
       "      <td>0</td>\n",
       "      <td>0</td>\n",
       "      <td>0</td>\n",
       "      <td>1</td>\n",
       "      <td>0</td>\n",
       "    </tr>\n",
       "    <tr>\n",
       "      <th>1</th>\n",
       "      <td>2</td>\n",
       "      <td>123</td>\n",
       "      <td>St. George,NY</td>\n",
       "      <td>Female</td>\n",
       "      <td>1991</td>\n",
       "      <td>Married</td>\n",
       "      <td>Student</td>\n",
       "      <td>3</td>\n",
       "      <td>Never</td>\n",
       "      <td>Socially</td>\n",
       "      <td>...</td>\n",
       "      <td>No</td>\n",
       "      <td>St. George</td>\n",
       "      <td>NY</td>\n",
       "      <td>0</td>\n",
       "      <td>0</td>\n",
       "      <td>0</td>\n",
       "      <td>1</td>\n",
       "      <td>0</td>\n",
       "      <td>0</td>\n",
       "      <td>0</td>\n",
       "    </tr>\n",
       "    <tr>\n",
       "      <th>2</th>\n",
       "      <td>3</td>\n",
       "      <td>122</td>\n",
       "      <td>Upper West Side,NY</td>\n",
       "      <td>Male</td>\n",
       "      <td>1977</td>\n",
       "      <td>Single</td>\n",
       "      <td>Student</td>\n",
       "      <td>5</td>\n",
       "      <td>Often</td>\n",
       "      <td>Often</td>\n",
       "      <td>...</td>\n",
       "      <td>Yes</td>\n",
       "      <td>Upper West Side</td>\n",
       "      <td>NY</td>\n",
       "      <td>0</td>\n",
       "      <td>0</td>\n",
       "      <td>0</td>\n",
       "      <td>0</td>\n",
       "      <td>0</td>\n",
       "      <td>0</td>\n",
       "      <td>1</td>\n",
       "    </tr>\n",
       "    <tr>\n",
       "      <th>3</th>\n",
       "      <td>4</td>\n",
       "      <td>153</td>\n",
       "      <td>Upper East Side,NY</td>\n",
       "      <td>Female</td>\n",
       "      <td>1956</td>\n",
       "      <td>Married</td>\n",
       "      <td>Professional</td>\n",
       "      <td>5</td>\n",
       "      <td>Never</td>\n",
       "      <td>Socially</td>\n",
       "      <td>...</td>\n",
       "      <td>No</td>\n",
       "      <td>Upper East Side</td>\n",
       "      <td>NY</td>\n",
       "      <td>0</td>\n",
       "      <td>0</td>\n",
       "      <td>0</td>\n",
       "      <td>0</td>\n",
       "      <td>0</td>\n",
       "      <td>1</td>\n",
       "      <td>0</td>\n",
       "    </tr>\n",
       "    <tr>\n",
       "      <th>4</th>\n",
       "      <td>5</td>\n",
       "      <td>129</td>\n",
       "      <td>Central Park,NY</td>\n",
       "      <td>Male</td>\n",
       "      <td>1997</td>\n",
       "      <td>Single</td>\n",
       "      <td>Student</td>\n",
       "      <td>4</td>\n",
       "      <td>Socially</td>\n",
       "      <td>Never</td>\n",
       "      <td>...</td>\n",
       "      <td>No</td>\n",
       "      <td>Central Park</td>\n",
       "      <td>NY</td>\n",
       "      <td>0</td>\n",
       "      <td>1</td>\n",
       "      <td>0</td>\n",
       "      <td>0</td>\n",
       "      <td>0</td>\n",
       "      <td>0</td>\n",
       "      <td>0</td>\n",
       "    </tr>\n",
       "    <tr>\n",
       "      <th>5</th>\n",
       "      <td>6</td>\n",
       "      <td>111</td>\n",
       "      <td>China Town, NY</td>\n",
       "      <td>Male</td>\n",
       "      <td>1995</td>\n",
       "      <td>Single</td>\n",
       "      <td>Student</td>\n",
       "      <td>5</td>\n",
       "      <td>Never</td>\n",
       "      <td>Never</td>\n",
       "      <td>...</td>\n",
       "      <td>No</td>\n",
       "      <td>China Town</td>\n",
       "      <td>NY</td>\n",
       "      <td>0</td>\n",
       "      <td>0</td>\n",
       "      <td>0</td>\n",
       "      <td>0</td>\n",
       "      <td>0</td>\n",
       "      <td>0</td>\n",
       "      <td>1</td>\n",
       "    </tr>\n",
       "    <tr>\n",
       "      <th>6</th>\n",
       "      <td>7</td>\n",
       "      <td>111</td>\n",
       "      <td>China Town, NY</td>\n",
       "      <td>Female</td>\n",
       "      <td>1977</td>\n",
       "      <td>Married</td>\n",
       "      <td>Professional</td>\n",
       "      <td>5</td>\n",
       "      <td>Often</td>\n",
       "      <td>Socially</td>\n",
       "      <td>...</td>\n",
       "      <td>No</td>\n",
       "      <td>China Town</td>\n",
       "      <td>NY</td>\n",
       "      <td>0</td>\n",
       "      <td>0</td>\n",
       "      <td>0</td>\n",
       "      <td>1</td>\n",
       "      <td>0</td>\n",
       "      <td>0</td>\n",
       "      <td>0</td>\n",
       "    </tr>\n",
       "    <tr>\n",
       "      <th>7</th>\n",
       "      <td>8</td>\n",
       "      <td>153</td>\n",
       "      <td>Upper East Side,NY</td>\n",
       "      <td>Female</td>\n",
       "      <td>2003</td>\n",
       "      <td>Single</td>\n",
       "      <td>Professional</td>\n",
       "      <td>3</td>\n",
       "      <td>Often</td>\n",
       "      <td>Often</td>\n",
       "      <td>...</td>\n",
       "      <td>Yes</td>\n",
       "      <td>Upper East Side</td>\n",
       "      <td>NY</td>\n",
       "      <td>0</td>\n",
       "      <td>1</td>\n",
       "      <td>0</td>\n",
       "      <td>0</td>\n",
       "      <td>0</td>\n",
       "      <td>0</td>\n",
       "      <td>0</td>\n",
       "    </tr>\n",
       "    <tr>\n",
       "      <th>8</th>\n",
       "      <td>9</td>\n",
       "      <td>107</td>\n",
       "      <td>Riverdale,NY</td>\n",
       "      <td>Male</td>\n",
       "      <td>1965</td>\n",
       "      <td>Single</td>\n",
       "      <td>Student</td>\n",
       "      <td>5</td>\n",
       "      <td>Socially</td>\n",
       "      <td>Socially</td>\n",
       "      <td>...</td>\n",
       "      <td>No</td>\n",
       "      <td>Riverdale</td>\n",
       "      <td>NY</td>\n",
       "      <td>0</td>\n",
       "      <td>0</td>\n",
       "      <td>0</td>\n",
       "      <td>0</td>\n",
       "      <td>1</td>\n",
       "      <td>0</td>\n",
       "      <td>0</td>\n",
       "    </tr>\n",
       "    <tr>\n",
       "      <th>9</th>\n",
       "      <td>10</td>\n",
       "      <td>129</td>\n",
       "      <td>Central Park,NY</td>\n",
       "      <td>Male</td>\n",
       "      <td>1995</td>\n",
       "      <td>Single</td>\n",
       "      <td>Student</td>\n",
       "      <td>4</td>\n",
       "      <td>Often</td>\n",
       "      <td>Often</td>\n",
       "      <td>...</td>\n",
       "      <td>Yes</td>\n",
       "      <td>Central Park</td>\n",
       "      <td>NY</td>\n",
       "      <td>1</td>\n",
       "      <td>0</td>\n",
       "      <td>0</td>\n",
       "      <td>0</td>\n",
       "      <td>0</td>\n",
       "      <td>0</td>\n",
       "      <td>0</td>\n",
       "    </tr>\n",
       "  </tbody>\n",
       "</table>\n",
       "<p>10 rows × 23 columns</p>\n",
       "</div>"
      ],
      "text/plain": [
       "   User ID  Area code             Address  Gender  Year OF Birth  \\\n",
       "0        1        153  Upper East Side,NY  Female           2006   \n",
       "1        2        123       St. George,NY  Female           1991   \n",
       "2        3        122  Upper West Side,NY    Male           1977   \n",
       "3        4        153  Upper East Side,NY  Female           1956   \n",
       "4        5        129     Central Park,NY    Male           1997   \n",
       "5        6        111      China Town, NY    Male           1995   \n",
       "6        7        111      China Town, NY  Female           1977   \n",
       "7        8        153  Upper East Side,NY  Female           2003   \n",
       "8        9        107        Riverdale,NY    Male           1965   \n",
       "9       10        129     Central Park,NY    Male           1995   \n",
       "\n",
       "  Marital Status    Profession  Money Spent  Alcohol     Smoker  ...  \\\n",
       "0         Single  Professional            3     Never     Never  ...   \n",
       "1        Married       Student            3     Never  Socially  ...   \n",
       "2         Single       Student            5     Often     Often  ...   \n",
       "3        Married  Professional            5     Never  Socially  ...   \n",
       "4         Single       Student            4  Socially     Never  ...   \n",
       "5         Single       Student            5     Never     Never  ...   \n",
       "6        Married  Professional            5     Often  Socially  ...   \n",
       "7         Single  Professional            3     Often     Often  ...   \n",
       "8         Single       Student            5  Socially  Socially  ...   \n",
       "9         Single       Student            4     Often     Often  ...   \n",
       "\n",
       "   regular visitor             City  State Cuisines_Chinese Cuisines_Filipino  \\\n",
       "0               No  Upper East Side     NY                0                 0   \n",
       "1               No       St. George     NY                0                 0   \n",
       "2              Yes  Upper West Side     NY                0                 0   \n",
       "3               No  Upper East Side     NY                0                 0   \n",
       "4               No     Central Park     NY                0                 1   \n",
       "5               No       China Town     NY                0                 0   \n",
       "6               No       China Town     NY                0                 0   \n",
       "7              Yes  Upper East Side     NY                0                 1   \n",
       "8               No        Riverdale     NY                0                 0   \n",
       "9              Yes     Central Park     NY                1                 0   \n",
       "\n",
       "  Cuisines_French  Cuisines_Indian  Cuisines_Italian  Cuisines_Japanese  \\\n",
       "0               0                0                 0                  1   \n",
       "1               0                1                 0                  0   \n",
       "2               0                0                 0                  0   \n",
       "3               0                0                 0                  1   \n",
       "4               0                0                 0                  0   \n",
       "5               0                0                 0                  0   \n",
       "6               0                1                 0                  0   \n",
       "7               0                0                 0                  0   \n",
       "8               0                0                 1                  0   \n",
       "9               0                0                 0                  0   \n",
       "\n",
       "   Cuisines_Seafood  \n",
       "0                 0  \n",
       "1                 0  \n",
       "2                 1  \n",
       "3                 0  \n",
       "4                 0  \n",
       "5                 1  \n",
       "6                 0  \n",
       "7                 0  \n",
       "8                 0  \n",
       "9                 0  \n",
       "\n",
       "[10 rows x 23 columns]"
      ]
     },
     "execution_count": 26,
     "metadata": {},
     "output_type": "execute_result"
    }
   ],
   "source": [
    "data1.head(10)"
   ]
  },
  {
   "attachments": {},
   "cell_type": "markdown",
   "metadata": {},
   "source": [
    "Hypothesis_testing:\n",
    "\n",
    "\n",
    "H1:"
   ]
  },
  {
   "cell_type": "code",
   "execution_count": 27,
   "metadata": {},
   "outputs": [
    {
     "data": {
      "text/plain": [
       "<AxesSubplot:xlabel='Overall Rating', ylabel='Density'>"
      ]
     },
     "execution_count": 27,
     "metadata": {},
     "output_type": "execute_result"
    },
    {
     "data": {
      "image/png": "[encoded data removed]",
      "text/plain": [
       "<Figure size 432x288 with 1 Axes>"
      ]
     },
     "metadata": {
      "needs_background": "light"
     },
     "output_type": "display_data"
    }
   ],
   "source": [
    "female = data1.loc[data1.Gender == 'Female']\n",
    "male = data1.loc[data1.Gender == 'male']\n",
    "f_rating = female['Overall Rating']\n",
    "m_rating = male['Overall Rating']\n",
    "sns.distplot(f_rating,color='blue',hist=False)\n",
    "sns.distplot(m_rating,color='red',hist=False)"
   ]
  },
  {
   "cell_type": "code",
   "execution_count": 28,
   "metadata": {},
   "outputs": [],
   "source": [
    "alpha=0.05\n",
    "t_value1, p_value1 = stats.ttest_ind(m_rating, f_rating)"
   ]
  },
  {
   "cell_type": "code",
   "execution_count": 29,
   "metadata": {},
   "outputs": [
    {
     "name": "stdout",
     "output_type": "stream",
     "text": [
      "Fail to reject the null hypothesis asfemale ratings is less than or equal male ratings \n"
     ]
    }
   ],
   "source": [
    "if p_value1 < alpha:\n",
    "    print(\"we have to reject the null hypothesis that female ratings is higher than male ratings.\")\n",
    "else:\n",
    "    print(\"Fail to reject the null hypothesis asfemale ratings is less than or equal male ratings \")"
   ]
  }
 ],
 "metadata": {
  "kernelspec": {
   "display_name": "Python 3",
   "language": "python",
   "name": "python3"
  },
  "language_info": {
   "codemirror_mode": {
    "name": "ipython",
    "version": 3
   },
   "file_extension": ".py",
   "mimetype": "text/x-python",
   "name": "python",
   "nbconvert_exporter": "python",
   "pygments_lexer": "ipython3",
   "version": "3.10.2"
  },
  "orig_nbformat": 4
 },
 "nbformat": 4,
 "nbformat_minor": 2
}
